{
 "cells": [
  {
   "cell_type": "code",
   "execution_count": 1,
   "id": "a328dac5",
   "metadata": {},
   "outputs": [],
   "source": [
    "#importing libraries\n",
    "\n",
    "import numpy as np\n",
    "import pandas as pd\n",
    "import seaborn as sns\n",
    "import matplotlib.pyplot as plt # we only need pyplot\n",
    "from sklearn.model_selection import train_test_split\n",
    "from sklearn.linear_model import LinearRegression\n",
    "from sklearn.metrics import mean_squared_error\n",
    "from datetime import datetime"
   ]
  },
  {
   "cell_type": "code",
   "execution_count": 2,
   "id": "7523fac2",
   "metadata": {},
   "outputs": [
    {
     "data": {
      "text/html": [
       "<div>\n",
       "<style scoped>\n",
       "    .dataframe tbody tr th:only-of-type {\n",
       "        vertical-align: middle;\n",
       "    }\n",
       "\n",
       "    .dataframe tbody tr th {\n",
       "        vertical-align: top;\n",
       "    }\n",
       "\n",
       "    .dataframe thead th {\n",
       "        text-align: right;\n",
       "    }\n",
       "</style>\n",
       "<table border=\"1\" class=\"dataframe\">\n",
       "  <thead>\n",
       "    <tr style=\"text-align: right;\">\n",
       "      <th></th>\n",
       "      <th>Unnamed: 0</th>\n",
       "      <th>artist_name</th>\n",
       "      <th>popularity</th>\n",
       "      <th>acousticness</th>\n",
       "      <th>danceability</th>\n",
       "      <th>duration_ms</th>\n",
       "      <th>energy</th>\n",
       "      <th>instrumentalness</th>\n",
       "      <th>key</th>\n",
       "      <th>liveness</th>\n",
       "      <th>loudness</th>\n",
       "      <th>mode</th>\n",
       "      <th>speechiness</th>\n",
       "      <th>tempo</th>\n",
       "      <th>valence</th>\n",
       "      <th>music_genre</th>\n",
       "    </tr>\n",
       "  </thead>\n",
       "  <tbody>\n",
       "    <tr>\n",
       "      <th>0</th>\n",
       "      <td>0</td>\n",
       "      <td>Thievery Corporation</td>\n",
       "      <td>31.0</td>\n",
       "      <td>0.01270</td>\n",
       "      <td>0.622</td>\n",
       "      <td>218293.0</td>\n",
       "      <td>0.890</td>\n",
       "      <td>0.950000</td>\n",
       "      <td>D</td>\n",
       "      <td>0.124</td>\n",
       "      <td>-7.043</td>\n",
       "      <td>Minor</td>\n",
       "      <td>0.0300</td>\n",
       "      <td>115.00</td>\n",
       "      <td>0.531</td>\n",
       "      <td>Electronic</td>\n",
       "    </tr>\n",
       "    <tr>\n",
       "      <th>1</th>\n",
       "      <td>1</td>\n",
       "      <td>Dillon Francis</td>\n",
       "      <td>28.0</td>\n",
       "      <td>0.00306</td>\n",
       "      <td>0.620</td>\n",
       "      <td>215613.0</td>\n",
       "      <td>0.755</td>\n",
       "      <td>0.011800</td>\n",
       "      <td>G#</td>\n",
       "      <td>0.534</td>\n",
       "      <td>-4.617</td>\n",
       "      <td>Major</td>\n",
       "      <td>0.0345</td>\n",
       "      <td>127.99</td>\n",
       "      <td>0.333</td>\n",
       "      <td>Electronic</td>\n",
       "    </tr>\n",
       "    <tr>\n",
       "      <th>2</th>\n",
       "      <td>2</td>\n",
       "      <td>Dubloadz</td>\n",
       "      <td>34.0</td>\n",
       "      <td>0.02540</td>\n",
       "      <td>0.774</td>\n",
       "      <td>166875.0</td>\n",
       "      <td>0.700</td>\n",
       "      <td>0.002530</td>\n",
       "      <td>C#</td>\n",
       "      <td>0.157</td>\n",
       "      <td>-4.498</td>\n",
       "      <td>Major</td>\n",
       "      <td>0.2390</td>\n",
       "      <td>128.01</td>\n",
       "      <td>0.270</td>\n",
       "      <td>Electronic</td>\n",
       "    </tr>\n",
       "    <tr>\n",
       "      <th>3</th>\n",
       "      <td>3</td>\n",
       "      <td>What So Not</td>\n",
       "      <td>32.0</td>\n",
       "      <td>0.00465</td>\n",
       "      <td>0.638</td>\n",
       "      <td>222369.0</td>\n",
       "      <td>0.587</td>\n",
       "      <td>0.909000</td>\n",
       "      <td>F#</td>\n",
       "      <td>0.157</td>\n",
       "      <td>-6.266</td>\n",
       "      <td>Major</td>\n",
       "      <td>0.0413</td>\n",
       "      <td>145.04</td>\n",
       "      <td>0.323</td>\n",
       "      <td>Electronic</td>\n",
       "    </tr>\n",
       "    <tr>\n",
       "      <th>4</th>\n",
       "      <td>4</td>\n",
       "      <td>Jordan Comolli</td>\n",
       "      <td>46.0</td>\n",
       "      <td>0.02890</td>\n",
       "      <td>0.572</td>\n",
       "      <td>214408.0</td>\n",
       "      <td>0.803</td>\n",
       "      <td>0.000008</td>\n",
       "      <td>B</td>\n",
       "      <td>0.106</td>\n",
       "      <td>-4.294</td>\n",
       "      <td>Major</td>\n",
       "      <td>0.3510</td>\n",
       "      <td>150.00</td>\n",
       "      <td>0.230</td>\n",
       "      <td>Electronic</td>\n",
       "    </tr>\n",
       "    <tr>\n",
       "      <th>...</th>\n",
       "      <td>...</td>\n",
       "      <td>...</td>\n",
       "      <td>...</td>\n",
       "      <td>...</td>\n",
       "      <td>...</td>\n",
       "      <td>...</td>\n",
       "      <td>...</td>\n",
       "      <td>...</td>\n",
       "      <td>...</td>\n",
       "      <td>...</td>\n",
       "      <td>...</td>\n",
       "      <td>...</td>\n",
       "      <td>...</td>\n",
       "      <td>...</td>\n",
       "      <td>...</td>\n",
       "      <td>...</td>\n",
       "    </tr>\n",
       "    <tr>\n",
       "      <th>40555</th>\n",
       "      <td>40555</td>\n",
       "      <td>Night Lovell</td>\n",
       "      <td>56.0</td>\n",
       "      <td>0.13300</td>\n",
       "      <td>0.849</td>\n",
       "      <td>237667.0</td>\n",
       "      <td>0.660</td>\n",
       "      <td>0.000008</td>\n",
       "      <td>C</td>\n",
       "      <td>0.296</td>\n",
       "      <td>-7.195</td>\n",
       "      <td>Major</td>\n",
       "      <td>0.0516</td>\n",
       "      <td>99.99</td>\n",
       "      <td>0.629</td>\n",
       "      <td>Hip-Hop</td>\n",
       "    </tr>\n",
       "    <tr>\n",
       "      <th>40556</th>\n",
       "      <td>40556</td>\n",
       "      <td>Roy Woods</td>\n",
       "      <td>72.0</td>\n",
       "      <td>0.15700</td>\n",
       "      <td>0.709</td>\n",
       "      <td>251860.0</td>\n",
       "      <td>0.362</td>\n",
       "      <td>0.000000</td>\n",
       "      <td>B</td>\n",
       "      <td>0.109</td>\n",
       "      <td>-9.814</td>\n",
       "      <td>Major</td>\n",
       "      <td>0.0550</td>\n",
       "      <td>122.04</td>\n",
       "      <td>0.113</td>\n",
       "      <td>Hip-Hop</td>\n",
       "    </tr>\n",
       "    <tr>\n",
       "      <th>40557</th>\n",
       "      <td>40557</td>\n",
       "      <td>Berner</td>\n",
       "      <td>51.0</td>\n",
       "      <td>0.00597</td>\n",
       "      <td>0.693</td>\n",
       "      <td>189483.0</td>\n",
       "      <td>0.763</td>\n",
       "      <td>0.000000</td>\n",
       "      <td>D</td>\n",
       "      <td>0.143</td>\n",
       "      <td>-5.443</td>\n",
       "      <td>Major</td>\n",
       "      <td>0.1460</td>\n",
       "      <td>131.08</td>\n",
       "      <td>0.395</td>\n",
       "      <td>Hip-Hop</td>\n",
       "    </tr>\n",
       "    <tr>\n",
       "      <th>40558</th>\n",
       "      <td>40558</td>\n",
       "      <td>The-Dream</td>\n",
       "      <td>65.0</td>\n",
       "      <td>0.08310</td>\n",
       "      <td>0.782</td>\n",
       "      <td>262773.0</td>\n",
       "      <td>0.472</td>\n",
       "      <td>0.000000</td>\n",
       "      <td>G</td>\n",
       "      <td>0.106</td>\n",
       "      <td>-5.016</td>\n",
       "      <td>Minor</td>\n",
       "      <td>0.0441</td>\n",
       "      <td>75.89</td>\n",
       "      <td>0.354</td>\n",
       "      <td>Hip-Hop</td>\n",
       "    </tr>\n",
       "    <tr>\n",
       "      <th>40559</th>\n",
       "      <td>40559</td>\n",
       "      <td>Naughty By Nature</td>\n",
       "      <td>67.0</td>\n",
       "      <td>0.10200</td>\n",
       "      <td>0.862</td>\n",
       "      <td>267267.0</td>\n",
       "      <td>0.642</td>\n",
       "      <td>0.000000</td>\n",
       "      <td>F#</td>\n",
       "      <td>0.272</td>\n",
       "      <td>-13.652</td>\n",
       "      <td>Minor</td>\n",
       "      <td>0.1010</td>\n",
       "      <td>99.20</td>\n",
       "      <td>0.765</td>\n",
       "      <td>Hip-Hop</td>\n",
       "    </tr>\n",
       "  </tbody>\n",
       "</table>\n",
       "<p>40560 rows × 16 columns</p>\n",
       "</div>"
      ],
      "text/plain": [
       "       Unnamed: 0           artist_name  popularity  acousticness  \\\n",
       "0               0  Thievery Corporation        31.0       0.01270   \n",
       "1               1        Dillon Francis        28.0       0.00306   \n",
       "2               2              Dubloadz        34.0       0.02540   \n",
       "3               3           What So Not        32.0       0.00465   \n",
       "4               4        Jordan Comolli        46.0       0.02890   \n",
       "...           ...                   ...         ...           ...   \n",
       "40555       40555          Night Lovell        56.0       0.13300   \n",
       "40556       40556             Roy Woods        72.0       0.15700   \n",
       "40557       40557                Berner        51.0       0.00597   \n",
       "40558       40558             The-Dream        65.0       0.08310   \n",
       "40559       40559     Naughty By Nature        67.0       0.10200   \n",
       "\n",
       "       danceability  duration_ms  energy  instrumentalness key  liveness  \\\n",
       "0             0.622     218293.0   0.890          0.950000   D     0.124   \n",
       "1             0.620     215613.0   0.755          0.011800  G#     0.534   \n",
       "2             0.774     166875.0   0.700          0.002530  C#     0.157   \n",
       "3             0.638     222369.0   0.587          0.909000  F#     0.157   \n",
       "4             0.572     214408.0   0.803          0.000008   B     0.106   \n",
       "...             ...          ...     ...               ...  ..       ...   \n",
       "40555         0.849     237667.0   0.660          0.000008   C     0.296   \n",
       "40556         0.709     251860.0   0.362          0.000000   B     0.109   \n",
       "40557         0.693     189483.0   0.763          0.000000   D     0.143   \n",
       "40558         0.782     262773.0   0.472          0.000000   G     0.106   \n",
       "40559         0.862     267267.0   0.642          0.000000  F#     0.272   \n",
       "\n",
       "       loudness   mode  speechiness   tempo  valence music_genre  \n",
       "0        -7.043  Minor       0.0300  115.00    0.531  Electronic  \n",
       "1        -4.617  Major       0.0345  127.99    0.333  Electronic  \n",
       "2        -4.498  Major       0.2390  128.01    0.270  Electronic  \n",
       "3        -6.266  Major       0.0413  145.04    0.323  Electronic  \n",
       "4        -4.294  Major       0.3510  150.00    0.230  Electronic  \n",
       "...         ...    ...          ...     ...      ...         ...  \n",
       "40555    -7.195  Major       0.0516   99.99    0.629     Hip-Hop  \n",
       "40556    -9.814  Major       0.0550  122.04    0.113     Hip-Hop  \n",
       "40557    -5.443  Major       0.1460  131.08    0.395     Hip-Hop  \n",
       "40558    -5.016  Minor       0.0441   75.89    0.354     Hip-Hop  \n",
       "40559   -13.652  Minor       0.1010   99.20    0.765     Hip-Hop  \n",
       "\n",
       "[40560 rows x 16 columns]"
      ]
     },
     "execution_count": 2,
     "metadata": {},
     "output_type": "execute_result"
    }
   ],
   "source": [
    "music = pd.read_csv(\"cleaned_music.csv\")\n",
    "music"
   ]
  },
  {
   "cell_type": "code",
   "execution_count": 3,
   "id": "99facc82",
   "metadata": {},
   "outputs": [],
   "source": [
    "music = music.drop([\"Unnamed: 0\"], axis = 1)\n"
   ]
  },
  {
   "cell_type": "markdown",
   "id": "583028d1",
   "metadata": {},
   "source": [
    "From the table, unknown column \"Unnamed: 0\" spotted. Hence, removed."
   ]
  },
  {
   "cell_type": "markdown",
   "id": "225bd9c8",
   "metadata": {},
   "source": [
    "# 4) Machine Learnning\n",
    "\n",
    "We will use 2 predictive models to discover possible patterns in our dataset and make predictions based on them."
   ]
  },
  {
   "cell_type": "markdown",
   "id": "c064a752",
   "metadata": {},
   "source": [
    "#### 4a) Encode categorical data\n",
    "\n",
    "Most Machine Learning algorithms cannot work with strings; they expect to see numerical values in each feature. It is preferable to one-hot encode categorical features (those having string values), i.e., to expand number of features so that values for each class are placed in a separate column. Where the sample correspond to the given class, it gets 1 in the respective feature; all others get zeroes. Instead, categorical values in this exercise are encoded with LabelEncoder(). It assigns a number (integer) to each class. Thus, 5 distinctive classes in a categorical variable will get values between 0 and 4. It should be noted here that LabelEncoder() memorizes the classes. Therefore, an encoder is instantiated for each categorical variable. The labels (i.e., the music genre) are not encoded, which will make interpretation easier and more understandable. Tree-based algorithms accept string labels."
   ]
  },
  {
   "cell_type": "code",
   "execution_count": 4,
   "id": "b148be9b",
   "metadata": {},
   "outputs": [],
   "source": [
    "# Importing libraries\n",
    "from sklearn.preprocessing import LabelEncoder"
   ]
  },
  {
   "cell_type": "markdown",
   "id": "b064f04a",
   "metadata": {},
   "source": [
    "Encoding key feature"
   ]
  },
  {
   "cell_type": "code",
   "execution_count": 5,
   "id": "273f6c84",
   "metadata": {},
   "outputs": [
    {
     "data": {
      "text/html": [
       "<div>\n",
       "<style scoped>\n",
       "    .dataframe tbody tr th:only-of-type {\n",
       "        vertical-align: middle;\n",
       "    }\n",
       "\n",
       "    .dataframe tbody tr th {\n",
       "        vertical-align: top;\n",
       "    }\n",
       "\n",
       "    .dataframe thead th {\n",
       "        text-align: right;\n",
       "    }\n",
       "</style>\n",
       "<table border=\"1\" class=\"dataframe\">\n",
       "  <thead>\n",
       "    <tr style=\"text-align: right;\">\n",
       "      <th></th>\n",
       "      <th>artist_name</th>\n",
       "      <th>popularity</th>\n",
       "      <th>acousticness</th>\n",
       "      <th>danceability</th>\n",
       "      <th>duration_ms</th>\n",
       "      <th>energy</th>\n",
       "      <th>instrumentalness</th>\n",
       "      <th>key</th>\n",
       "      <th>liveness</th>\n",
       "      <th>loudness</th>\n",
       "      <th>mode</th>\n",
       "      <th>speechiness</th>\n",
       "      <th>tempo</th>\n",
       "      <th>valence</th>\n",
       "      <th>music_genre</th>\n",
       "    </tr>\n",
       "  </thead>\n",
       "  <tbody>\n",
       "    <tr>\n",
       "      <th>0</th>\n",
       "      <td>Thievery Corporation</td>\n",
       "      <td>31.0</td>\n",
       "      <td>0.01270</td>\n",
       "      <td>0.622</td>\n",
       "      <td>218293.0</td>\n",
       "      <td>0.890</td>\n",
       "      <td>0.950000</td>\n",
       "      <td>5</td>\n",
       "      <td>0.124</td>\n",
       "      <td>-7.043</td>\n",
       "      <td>Minor</td>\n",
       "      <td>0.0300</td>\n",
       "      <td>115.00</td>\n",
       "      <td>0.531</td>\n",
       "      <td>Electronic</td>\n",
       "    </tr>\n",
       "    <tr>\n",
       "      <th>1</th>\n",
       "      <td>Dillon Francis</td>\n",
       "      <td>28.0</td>\n",
       "      <td>0.00306</td>\n",
       "      <td>0.620</td>\n",
       "      <td>215613.0</td>\n",
       "      <td>0.755</td>\n",
       "      <td>0.011800</td>\n",
       "      <td>11</td>\n",
       "      <td>0.534</td>\n",
       "      <td>-4.617</td>\n",
       "      <td>Major</td>\n",
       "      <td>0.0345</td>\n",
       "      <td>127.99</td>\n",
       "      <td>0.333</td>\n",
       "      <td>Electronic</td>\n",
       "    </tr>\n",
       "    <tr>\n",
       "      <th>2</th>\n",
       "      <td>Dubloadz</td>\n",
       "      <td>34.0</td>\n",
       "      <td>0.02540</td>\n",
       "      <td>0.774</td>\n",
       "      <td>166875.0</td>\n",
       "      <td>0.700</td>\n",
       "      <td>0.002530</td>\n",
       "      <td>4</td>\n",
       "      <td>0.157</td>\n",
       "      <td>-4.498</td>\n",
       "      <td>Major</td>\n",
       "      <td>0.2390</td>\n",
       "      <td>128.01</td>\n",
       "      <td>0.270</td>\n",
       "      <td>Electronic</td>\n",
       "    </tr>\n",
       "    <tr>\n",
       "      <th>3</th>\n",
       "      <td>What So Not</td>\n",
       "      <td>32.0</td>\n",
       "      <td>0.00465</td>\n",
       "      <td>0.638</td>\n",
       "      <td>222369.0</td>\n",
       "      <td>0.587</td>\n",
       "      <td>0.909000</td>\n",
       "      <td>9</td>\n",
       "      <td>0.157</td>\n",
       "      <td>-6.266</td>\n",
       "      <td>Major</td>\n",
       "      <td>0.0413</td>\n",
       "      <td>145.04</td>\n",
       "      <td>0.323</td>\n",
       "      <td>Electronic</td>\n",
       "    </tr>\n",
       "    <tr>\n",
       "      <th>4</th>\n",
       "      <td>Jordan Comolli</td>\n",
       "      <td>46.0</td>\n",
       "      <td>0.02890</td>\n",
       "      <td>0.572</td>\n",
       "      <td>214408.0</td>\n",
       "      <td>0.803</td>\n",
       "      <td>0.000008</td>\n",
       "      <td>2</td>\n",
       "      <td>0.106</td>\n",
       "      <td>-4.294</td>\n",
       "      <td>Major</td>\n",
       "      <td>0.3510</td>\n",
       "      <td>150.00</td>\n",
       "      <td>0.230</td>\n",
       "      <td>Electronic</td>\n",
       "    </tr>\n",
       "  </tbody>\n",
       "</table>\n",
       "</div>"
      ],
      "text/plain": [
       "            artist_name  popularity  acousticness  danceability  duration_ms  \\\n",
       "0  Thievery Corporation        31.0       0.01270         0.622     218293.0   \n",
       "1        Dillon Francis        28.0       0.00306         0.620     215613.0   \n",
       "2              Dubloadz        34.0       0.02540         0.774     166875.0   \n",
       "3           What So Not        32.0       0.00465         0.638     222369.0   \n",
       "4        Jordan Comolli        46.0       0.02890         0.572     214408.0   \n",
       "\n",
       "   energy  instrumentalness  key  liveness  loudness   mode  speechiness  \\\n",
       "0   0.890          0.950000    5     0.124    -7.043  Minor       0.0300   \n",
       "1   0.755          0.011800   11     0.534    -4.617  Major       0.0345   \n",
       "2   0.700          0.002530    4     0.157    -4.498  Major       0.2390   \n",
       "3   0.587          0.909000    9     0.157    -6.266  Major       0.0413   \n",
       "4   0.803          0.000008    2     0.106    -4.294  Major       0.3510   \n",
       "\n",
       "    tempo  valence music_genre  \n",
       "0  115.00    0.531  Electronic  \n",
       "1  127.99    0.333  Electronic  \n",
       "2  128.01    0.270  Electronic  \n",
       "3  145.04    0.323  Electronic  \n",
       "4  150.00    0.230  Electronic  "
      ]
     },
     "execution_count": 5,
     "metadata": {},
     "output_type": "execute_result"
    }
   ],
   "source": [
    "key_encoder = LabelEncoder()\n",
    "music[\"key\"] = key_encoder.fit_transform(music[\"key\"])\n",
    "music.head()"
   ]
  },
  {
   "cell_type": "code",
   "execution_count": 6,
   "id": "83f103b1",
   "metadata": {},
   "outputs": [
    {
     "data": {
      "text/plain": [
       "array(['A', 'A#', 'B', 'C', 'C#', 'D', 'D#', 'E', 'F', 'F#', 'G', 'G#'],\n",
       "      dtype=object)"
      ]
     },
     "execution_count": 6,
     "metadata": {},
     "output_type": "execute_result"
    }
   ],
   "source": [
    "# Printing out corresponding classes\n",
    "key_encoder.classes_"
   ]
  },
  {
   "cell_type": "markdown",
   "id": "b69f87f5",
   "metadata": {},
   "source": [
    "Encoding mode feature"
   ]
  },
  {
   "cell_type": "code",
   "execution_count": 7,
   "id": "f9d98b8e",
   "metadata": {},
   "outputs": [
    {
     "data": {
      "text/html": [
       "<div>\n",
       "<style scoped>\n",
       "    .dataframe tbody tr th:only-of-type {\n",
       "        vertical-align: middle;\n",
       "    }\n",
       "\n",
       "    .dataframe tbody tr th {\n",
       "        vertical-align: top;\n",
       "    }\n",
       "\n",
       "    .dataframe thead th {\n",
       "        text-align: right;\n",
       "    }\n",
       "</style>\n",
       "<table border=\"1\" class=\"dataframe\">\n",
       "  <thead>\n",
       "    <tr style=\"text-align: right;\">\n",
       "      <th></th>\n",
       "      <th>artist_name</th>\n",
       "      <th>popularity</th>\n",
       "      <th>acousticness</th>\n",
       "      <th>danceability</th>\n",
       "      <th>duration_ms</th>\n",
       "      <th>energy</th>\n",
       "      <th>instrumentalness</th>\n",
       "      <th>key</th>\n",
       "      <th>liveness</th>\n",
       "      <th>loudness</th>\n",
       "      <th>mode</th>\n",
       "      <th>speechiness</th>\n",
       "      <th>tempo</th>\n",
       "      <th>valence</th>\n",
       "      <th>music_genre</th>\n",
       "    </tr>\n",
       "  </thead>\n",
       "  <tbody>\n",
       "    <tr>\n",
       "      <th>0</th>\n",
       "      <td>Thievery Corporation</td>\n",
       "      <td>31.0</td>\n",
       "      <td>0.01270</td>\n",
       "      <td>0.622</td>\n",
       "      <td>218293.0</td>\n",
       "      <td>0.890</td>\n",
       "      <td>0.950000</td>\n",
       "      <td>5</td>\n",
       "      <td>0.124</td>\n",
       "      <td>-7.043</td>\n",
       "      <td>1</td>\n",
       "      <td>0.0300</td>\n",
       "      <td>115.00</td>\n",
       "      <td>0.531</td>\n",
       "      <td>Electronic</td>\n",
       "    </tr>\n",
       "    <tr>\n",
       "      <th>1</th>\n",
       "      <td>Dillon Francis</td>\n",
       "      <td>28.0</td>\n",
       "      <td>0.00306</td>\n",
       "      <td>0.620</td>\n",
       "      <td>215613.0</td>\n",
       "      <td>0.755</td>\n",
       "      <td>0.011800</td>\n",
       "      <td>11</td>\n",
       "      <td>0.534</td>\n",
       "      <td>-4.617</td>\n",
       "      <td>0</td>\n",
       "      <td>0.0345</td>\n",
       "      <td>127.99</td>\n",
       "      <td>0.333</td>\n",
       "      <td>Electronic</td>\n",
       "    </tr>\n",
       "    <tr>\n",
       "      <th>2</th>\n",
       "      <td>Dubloadz</td>\n",
       "      <td>34.0</td>\n",
       "      <td>0.02540</td>\n",
       "      <td>0.774</td>\n",
       "      <td>166875.0</td>\n",
       "      <td>0.700</td>\n",
       "      <td>0.002530</td>\n",
       "      <td>4</td>\n",
       "      <td>0.157</td>\n",
       "      <td>-4.498</td>\n",
       "      <td>0</td>\n",
       "      <td>0.2390</td>\n",
       "      <td>128.01</td>\n",
       "      <td>0.270</td>\n",
       "      <td>Electronic</td>\n",
       "    </tr>\n",
       "    <tr>\n",
       "      <th>3</th>\n",
       "      <td>What So Not</td>\n",
       "      <td>32.0</td>\n",
       "      <td>0.00465</td>\n",
       "      <td>0.638</td>\n",
       "      <td>222369.0</td>\n",
       "      <td>0.587</td>\n",
       "      <td>0.909000</td>\n",
       "      <td>9</td>\n",
       "      <td>0.157</td>\n",
       "      <td>-6.266</td>\n",
       "      <td>0</td>\n",
       "      <td>0.0413</td>\n",
       "      <td>145.04</td>\n",
       "      <td>0.323</td>\n",
       "      <td>Electronic</td>\n",
       "    </tr>\n",
       "    <tr>\n",
       "      <th>4</th>\n",
       "      <td>Jordan Comolli</td>\n",
       "      <td>46.0</td>\n",
       "      <td>0.02890</td>\n",
       "      <td>0.572</td>\n",
       "      <td>214408.0</td>\n",
       "      <td>0.803</td>\n",
       "      <td>0.000008</td>\n",
       "      <td>2</td>\n",
       "      <td>0.106</td>\n",
       "      <td>-4.294</td>\n",
       "      <td>0</td>\n",
       "      <td>0.3510</td>\n",
       "      <td>150.00</td>\n",
       "      <td>0.230</td>\n",
       "      <td>Electronic</td>\n",
       "    </tr>\n",
       "  </tbody>\n",
       "</table>\n",
       "</div>"
      ],
      "text/plain": [
       "            artist_name  popularity  acousticness  danceability  duration_ms  \\\n",
       "0  Thievery Corporation        31.0       0.01270         0.622     218293.0   \n",
       "1        Dillon Francis        28.0       0.00306         0.620     215613.0   \n",
       "2              Dubloadz        34.0       0.02540         0.774     166875.0   \n",
       "3           What So Not        32.0       0.00465         0.638     222369.0   \n",
       "4        Jordan Comolli        46.0       0.02890         0.572     214408.0   \n",
       "\n",
       "   energy  instrumentalness  key  liveness  loudness  mode  speechiness  \\\n",
       "0   0.890          0.950000    5     0.124    -7.043     1       0.0300   \n",
       "1   0.755          0.011800   11     0.534    -4.617     0       0.0345   \n",
       "2   0.700          0.002530    4     0.157    -4.498     0       0.2390   \n",
       "3   0.587          0.909000    9     0.157    -6.266     0       0.0413   \n",
       "4   0.803          0.000008    2     0.106    -4.294     0       0.3510   \n",
       "\n",
       "    tempo  valence music_genre  \n",
       "0  115.00    0.531  Electronic  \n",
       "1  127.99    0.333  Electronic  \n",
       "2  128.01    0.270  Electronic  \n",
       "3  145.04    0.323  Electronic  \n",
       "4  150.00    0.230  Electronic  "
      ]
     },
     "execution_count": 7,
     "metadata": {},
     "output_type": "execute_result"
    }
   ],
   "source": [
    "mode_encoder = LabelEncoder()\n",
    "music[\"mode\"] = mode_encoder.fit_transform(music[\"mode\"])\n",
    "music.head()"
   ]
  },
  {
   "cell_type": "code",
   "execution_count": 8,
   "id": "fc5baff6",
   "metadata": {},
   "outputs": [
    {
     "data": {
      "text/plain": [
       "array(['Major', 'Minor'], dtype=object)"
      ]
     },
     "execution_count": 8,
     "metadata": {},
     "output_type": "execute_result"
    }
   ],
   "source": [
    "# Printing out corresponding classes\n",
    "\n",
    "mode_encoder.classes_"
   ]
  },
  {
   "cell_type": "markdown",
   "id": "bae19d21",
   "metadata": {},
   "source": [
    "#### 4b) Exploration and Visualization\n",
    "\n",
    "Perform basic statistical exploration and visualization on the Train Set."
   ]
  },
  {
   "cell_type": "markdown",
   "id": "0e4ee7d6",
   "metadata": {},
   "source": [
    "We will start by setting up a Multi-Variate Classification problem."
   ]
  },
  {
   "cell_type": "code",
   "execution_count": 9,
   "id": "6291b059",
   "metadata": {},
   "outputs": [],
   "source": [
    "# Extract Response and Predictors\n",
    "y = pd.DataFrame(music[\"music_genre\"])\n",
    "predictors = [\"popularity\",\"acousticness\",\"danceability\",\"duration_ms\",\"energy\",\"instrumentalness\",\"key\",\"liveness\",\"loudness\",\"mode\",\"speechiness\",\"tempo\",\"valence\"]\n",
    "X = pd.DataFrame(music[predictors]) "
   ]
  },
  {
   "cell_type": "code",
   "execution_count": 10,
   "id": "8f6333fb",
   "metadata": {},
   "outputs": [
    {
     "name": "stdout",
     "output_type": "stream",
     "text": [
      "Train Set : (30420, 1) (30420, 13)\n",
      "Test Set  : (10140, 1) (10140, 13)\n"
     ]
    }
   ],
   "source": [
    "# Import train_test_split from sklearn\n",
    "from sklearn.model_selection import train_test_split\n",
    "\n",
    "# Split the Dataset into Train and Test\n",
    "X_train, X_test, y_train, y_test = train_test_split(X, y, test_size = 0.25)\n",
    "\n",
    "# Check the sample sizes\n",
    "print(\"Train Set :\", y_train.shape, X_train.shape)\n",
    "print(\"Test Set  :\", y_test.shape, X_test.shape)"
   ]
  },
  {
   "cell_type": "code",
   "execution_count": 11,
   "id": "ed310a4d",
   "metadata": {},
   "outputs": [
    {
     "data": {
      "text/plain": [
       "Hip-Hop        3089\n",
       "Rock           3087\n",
       "Alternative    3068\n",
       "Blues          3060\n",
       "Jazz           3035\n",
       "Electronic     3030\n",
       "Classical      3023\n",
       "Rap            3020\n",
       "Country        3015\n",
       "Anime          2993\n",
       "Name: music_genre, dtype: int64"
      ]
     },
     "execution_count": 11,
     "metadata": {},
     "output_type": "execute_result"
    }
   ],
   "source": [
    "# Summary Statistics for Response\n",
    "y_train[\"music_genre\"].value_counts()"
   ]
  },
  {
   "cell_type": "code",
   "execution_count": 12,
   "id": "c722d608",
   "metadata": {},
   "outputs": [
    {
     "data": {
      "text/html": [
       "<div>\n",
       "<style scoped>\n",
       "    .dataframe tbody tr th:only-of-type {\n",
       "        vertical-align: middle;\n",
       "    }\n",
       "\n",
       "    .dataframe tbody tr th {\n",
       "        vertical-align: top;\n",
       "    }\n",
       "\n",
       "    .dataframe thead th {\n",
       "        text-align: right;\n",
       "    }\n",
       "</style>\n",
       "<table border=\"1\" class=\"dataframe\">\n",
       "  <thead>\n",
       "    <tr style=\"text-align: right;\">\n",
       "      <th></th>\n",
       "      <th>popularity</th>\n",
       "      <th>acousticness</th>\n",
       "      <th>danceability</th>\n",
       "      <th>duration_ms</th>\n",
       "      <th>energy</th>\n",
       "      <th>instrumentalness</th>\n",
       "      <th>key</th>\n",
       "      <th>liveness</th>\n",
       "      <th>loudness</th>\n",
       "      <th>mode</th>\n",
       "      <th>speechiness</th>\n",
       "      <th>tempo</th>\n",
       "      <th>valence</th>\n",
       "    </tr>\n",
       "  </thead>\n",
       "  <tbody>\n",
       "    <tr>\n",
       "      <th>count</th>\n",
       "      <td>30420.000000</td>\n",
       "      <td>30420.000000</td>\n",
       "      <td>30420.000000</td>\n",
       "      <td>3.042000e+04</td>\n",
       "      <td>30420.000000</td>\n",
       "      <td>30420.000000</td>\n",
       "      <td>30420.000000</td>\n",
       "      <td>30420.000000</td>\n",
       "      <td>30420.000000</td>\n",
       "      <td>30420.000000</td>\n",
       "      <td>30420.000000</td>\n",
       "      <td>30420.000000</td>\n",
       "      <td>30420.000000</td>\n",
       "    </tr>\n",
       "    <tr>\n",
       "      <th>mean</th>\n",
       "      <td>44.351381</td>\n",
       "      <td>0.306461</td>\n",
       "      <td>0.558166</td>\n",
       "      <td>2.452757e+05</td>\n",
       "      <td>0.600584</td>\n",
       "      <td>0.181190</td>\n",
       "      <td>5.340960</td>\n",
       "      <td>0.194160</td>\n",
       "      <td>-9.120889</td>\n",
       "      <td>0.360026</td>\n",
       "      <td>0.093910</td>\n",
       "      <td>119.970582</td>\n",
       "      <td>0.457053</td>\n",
       "    </tr>\n",
       "    <tr>\n",
       "      <th>std</th>\n",
       "      <td>15.564799</td>\n",
       "      <td>0.340995</td>\n",
       "      <td>0.178709</td>\n",
       "      <td>1.091546e+05</td>\n",
       "      <td>0.264459</td>\n",
       "      <td>0.325391</td>\n",
       "      <td>3.461964</td>\n",
       "      <td>0.162437</td>\n",
       "      <td>6.155841</td>\n",
       "      <td>0.480016</td>\n",
       "      <td>0.101439</td>\n",
       "      <td>30.614873</td>\n",
       "      <td>0.247500</td>\n",
       "    </tr>\n",
       "    <tr>\n",
       "      <th>min</th>\n",
       "      <td>0.000000</td>\n",
       "      <td>0.000000</td>\n",
       "      <td>0.060600</td>\n",
       "      <td>1.550900e+04</td>\n",
       "      <td>0.000792</td>\n",
       "      <td>0.000000</td>\n",
       "      <td>0.000000</td>\n",
       "      <td>0.013600</td>\n",
       "      <td>-47.046000</td>\n",
       "      <td>0.000000</td>\n",
       "      <td>0.022300</td>\n",
       "      <td>34.350000</td>\n",
       "      <td>0.000000</td>\n",
       "    </tr>\n",
       "    <tr>\n",
       "      <th>25%</th>\n",
       "      <td>34.000000</td>\n",
       "      <td>0.020300</td>\n",
       "      <td>0.441000</td>\n",
       "      <td>1.906000e+05</td>\n",
       "      <td>0.433000</td>\n",
       "      <td>0.000000</td>\n",
       "      <td>3.000000</td>\n",
       "      <td>0.097000</td>\n",
       "      <td>-10.830250</td>\n",
       "      <td>0.000000</td>\n",
       "      <td>0.036100</td>\n",
       "      <td>94.940000</td>\n",
       "      <td>0.258000</td>\n",
       "    </tr>\n",
       "    <tr>\n",
       "      <th>50%</th>\n",
       "      <td>45.000000</td>\n",
       "      <td>0.146000</td>\n",
       "      <td>0.569000</td>\n",
       "      <td>2.274620e+05</td>\n",
       "      <td>0.645000</td>\n",
       "      <td>0.000155</td>\n",
       "      <td>5.000000</td>\n",
       "      <td>0.126000</td>\n",
       "      <td>-7.268500</td>\n",
       "      <td>0.000000</td>\n",
       "      <td>0.049000</td>\n",
       "      <td>119.850000</td>\n",
       "      <td>0.450000</td>\n",
       "    </tr>\n",
       "    <tr>\n",
       "      <th>75%</th>\n",
       "      <td>56.000000</td>\n",
       "      <td>0.550000</td>\n",
       "      <td>0.687000</td>\n",
       "      <td>2.754432e+05</td>\n",
       "      <td>0.817000</td>\n",
       "      <td>0.150250</td>\n",
       "      <td>8.000000</td>\n",
       "      <td>0.244000</td>\n",
       "      <td>-5.169000</td>\n",
       "      <td>1.000000</td>\n",
       "      <td>0.099125</td>\n",
       "      <td>140.422500</td>\n",
       "      <td>0.649000</td>\n",
       "    </tr>\n",
       "    <tr>\n",
       "      <th>max</th>\n",
       "      <td>99.000000</td>\n",
       "      <td>0.996000</td>\n",
       "      <td>0.986000</td>\n",
       "      <td>4.497994e+06</td>\n",
       "      <td>0.999000</td>\n",
       "      <td>0.994000</td>\n",
       "      <td>11.000000</td>\n",
       "      <td>1.000000</td>\n",
       "      <td>3.744000</td>\n",
       "      <td>1.000000</td>\n",
       "      <td>0.942000</td>\n",
       "      <td>220.280000</td>\n",
       "      <td>0.992000</td>\n",
       "    </tr>\n",
       "  </tbody>\n",
       "</table>\n",
       "</div>"
      ],
      "text/plain": [
       "         popularity  acousticness  danceability   duration_ms        energy  \\\n",
       "count  30420.000000  30420.000000  30420.000000  3.042000e+04  30420.000000   \n",
       "mean      44.351381      0.306461      0.558166  2.452757e+05      0.600584   \n",
       "std       15.564799      0.340995      0.178709  1.091546e+05      0.264459   \n",
       "min        0.000000      0.000000      0.060600  1.550900e+04      0.000792   \n",
       "25%       34.000000      0.020300      0.441000  1.906000e+05      0.433000   \n",
       "50%       45.000000      0.146000      0.569000  2.274620e+05      0.645000   \n",
       "75%       56.000000      0.550000      0.687000  2.754432e+05      0.817000   \n",
       "max       99.000000      0.996000      0.986000  4.497994e+06      0.999000   \n",
       "\n",
       "       instrumentalness           key      liveness      loudness  \\\n",
       "count      30420.000000  30420.000000  30420.000000  30420.000000   \n",
       "mean           0.181190      5.340960      0.194160     -9.120889   \n",
       "std            0.325391      3.461964      0.162437      6.155841   \n",
       "min            0.000000      0.000000      0.013600    -47.046000   \n",
       "25%            0.000000      3.000000      0.097000    -10.830250   \n",
       "50%            0.000155      5.000000      0.126000     -7.268500   \n",
       "75%            0.150250      8.000000      0.244000     -5.169000   \n",
       "max            0.994000     11.000000      1.000000      3.744000   \n",
       "\n",
       "               mode   speechiness         tempo       valence  \n",
       "count  30420.000000  30420.000000  30420.000000  30420.000000  \n",
       "mean       0.360026      0.093910    119.970582      0.457053  \n",
       "std        0.480016      0.101439     30.614873      0.247500  \n",
       "min        0.000000      0.022300     34.350000      0.000000  \n",
       "25%        0.000000      0.036100     94.940000      0.258000  \n",
       "50%        0.000000      0.049000    119.850000      0.450000  \n",
       "75%        1.000000      0.099125    140.422500      0.649000  \n",
       "max        1.000000      0.942000    220.280000      0.992000  "
      ]
     },
     "execution_count": 12,
     "metadata": {},
     "output_type": "execute_result"
    }
   ],
   "source": [
    "# Summary Statistics for Predictors\n",
    "X_train.describe()"
   ]
  },
  {
   "cell_type": "code",
   "execution_count": 13,
   "id": "39b64919",
   "metadata": {},
   "outputs": [
    {
     "data": {
      "text/plain": [
       "<seaborn.axisgrid.FacetGrid at 0x26a213d2790>"
      ]
     },
     "execution_count": 13,
     "metadata": {},
     "output_type": "execute_result"
    },
    {
     "data": {
      "image/png": "[encoded data removed]",
      "text/plain": [
       "<Figure size 500x500 with 1 Axes>"
      ]
     },
     "metadata": {},
     "output_type": "display_data"
    }
   ],
   "source": [
    "# Draw the distribution of Response\n",
    "sns.catplot(y = \"music_genre\", data = y_train, kind = \"count\")"
   ]
  },
  {
   "cell_type": "markdown",
   "id": "b7dca303",
   "metadata": {},
   "source": [
    "## 4c) Classification Tree"
   ]
  },
  {
   "cell_type": "code",
   "execution_count": 14,
   "id": "0b698f7c",
   "metadata": {},
   "outputs": [],
   "source": [
    "# Import DecisionTreeClassifier model from Scikit-Learn\n",
    "from sklearn.tree import DecisionTreeClassifier\n",
    "\n",
    "# Decision Tree using Train Data\n",
    "dectree = DecisionTreeClassifier(max_depth = 3)  # create the decision tree object\n",
    "dectree.fit(X_train, y_train)                    # train the decision tree model\n",
    "y_predict = dectree.fit(X_train,y_train).predict(X_test)"
   ]
  },
  {
   "cell_type": "code",
   "execution_count": 15,
   "id": "7bb1a8d0",
   "metadata": {},
   "outputs": [
    {
     "data": {
      "text/plain": [
       "[Text(0.5, 0.875, 'popularity <= 47.5\\ngini = 0.9\\nsamples = 30420\\nvalue = [3068, 2993, 3060, 3023, 3015, 3030, 3089, 3035, 3020\\n3087]\\nclass = Anime'),\n",
       " Text(0.25, 0.625, 'loudness <= -16.771\\ngini = 0.852\\nsamples = 16702\\nvalue = [1195, 2938, 2757, 2840, 1852, 2546, 129, 2379, 27\\n39]\\nclass = Jazz'),\n",
       " Text(0.125, 0.375, 'danceability <= 0.491\\ngini = 0.425\\nsamples = 2929\\nvalue = [4, 310, 91, 2180, 22, 41, 2, 278, 0, 1]\\nclass = Rock'),\n",
       " Text(0.0625, 0.125, 'gini = 0.298\\nsamples = 2462\\nvalue = [1, 223, 24, 2045, 7, 14, 0, 147, 0, 1]\\nclass = Rock'),\n",
       " Text(0.1875, 0.125, 'gini = 0.778\\nsamples = 467\\nvalue = [3, 87, 67, 135, 15, 27, 2, 131, 0, 0]\\nclass = Rock'),\n",
       " Text(0.375, 0.375, 'popularity <= 24.5\\ngini = 0.842\\nsamples = 13773\\nvalue = [1191, 2628, 2666, 660, 1830, 2505, 127, 2101, 27, 38]\\nclass = Country'),\n",
       " Text(0.3125, 0.125, 'gini = 0.47\\nsamples = 2043\\nvalue = [9, 1456, 240, 100, 35, 135, 5, 58, 2, 3]\\nclass = Jazz'),\n",
       " Text(0.4375, 0.125, 'gini = 0.84\\nsamples = 11730\\nvalue = [1182, 1172, 2426, 560, 1795, 2370, 122, 2043, 25, 35]\\nclass = Country'),\n",
       " Text(0.75, 0.625, 'speechiness <= 0.078\\ngini = 0.826\\nsamples = 13718\\nvalue = [1873, 55, 303, 183, 1163, 484, 2960, 656, 2993, 3048]\\nclass = Electronic'),\n",
       " Text(0.625, 0.375, 'popularity <= 53.5\\ngini = 0.813\\nsamples = 7799\\nvalue = [1281, 38, 255, 176, 1063, 320, 678, 520, 828, 2640]\\nclass = Electronic'),\n",
       " Text(0.5625, 0.125, 'gini = 0.847\\nsamples = 2666\\nvalue = [639, 28, 118, 119, 506, 197, 172, 313, 105, 469]\\nclass = Classical'),\n",
       " Text(0.6875, 0.125, 'gini = 0.761\\nsamples = 5133\\nvalue = [642, 10, 137, 57, 557, 123, 506, 207, 723, 2171]\\nclass = Electronic'),\n",
       " Text(0.875, 0.375, 'energy <= 0.88\\ngini = 0.701\\nsamples = 5919\\nvalue = [592, 17, 48, 7, 100, 164, 2282, 136, 2165, 408]\\nclass = Anime'),\n",
       " Text(0.8125, 0.125, 'gini = 0.655\\nsamples = 5064\\nvalue = [371, 2, 31, 1, 79, 96, 2143, 130, 2008, 203]\\nclass = Anime'),\n",
       " Text(0.9375, 0.125, 'gini = 0.808\\nsamples = 855\\nvalue = [221, 15, 17, 6, 21, 68, 139, 6, 157, 205]\\nclass = Classical')]"
      ]
     },
     "execution_count": 15,
     "metadata": {},
     "output_type": "execute_result"
    }
   ],
   "source": [
    "# Plot the trained Decision Tree\n",
    "from sklearn.tree import plot_tree\n",
    "\n",
    "f = plt.figure(figsize=(30,20))\n",
    "plot_tree(dectree, filled=True, rounded=True, fontsize = 7, \n",
    "          feature_names= X_train.columns, \n",
    "          class_names= [\"Classical\",\"Jazz\",\"Country\",\"Rock\",\"Hip-Hop\",\"Rap\",\"Anime\",\"Alternative\",\"Blues\",\"Electronic\"])"
   ]
  },
  {
   "cell_type": "markdown",
   "id": "f1ada5ab",
   "metadata": {},
   "source": [
    "## 4d) Confusion Matrix"
   ]
  },
  {
   "cell_type": "markdown",
   "id": "4bd9632c",
   "metadata": {},
   "source": [
    "#### We start by Finding Optimal Depth via K-fold Cross-Validation\n",
    "We use a range of tree depths to evaluate and to plot the estimated performance +/- 2 standard deviations for each depth using K-fold cross validation. We provide a Python code that can be used in any situation, where you want to tune your decision tree given a predictor tensor X and labels Y. The code includes the training set performance in the plot, while scaling the y-axis to focus on the cross-validation performance."
   ]
  },
  {
   "cell_type": "code",
   "execution_count": 16,
   "id": "bd156301",
   "metadata": {},
   "outputs": [],
   "source": [
    "# Import essential models and functions\n",
    "from sklearn.tree import DecisionTreeClassifier\n",
    "from sklearn.model_selection import train_test_split\n",
    "from sklearn.metrics import confusion_matrix\n",
    "from sklearn.metrics import classification_report\n",
    "from sklearn.model_selection import cross_val_score\n",
    "import numpy as np\n",
    "import matplotlib.pyplot as plt\n",
    "\n",
    "# function for fitting trees of various depths on the training data using cross-validation\n",
    "def run_cross_validation_on_trees(X, y, tree_depths, cv=5, scoring='accuracy'):\n",
    "    cv_scores_list = []\n",
    "    cv_scores_std = []\n",
    "    cv_scores_mean = []\n",
    "    accuracy_scores = []\n",
    "    for depth in tree_depths:\n",
    "        tree_model = DecisionTreeClassifier(max_depth=depth)\n",
    "        cv_scores = cross_val_score(tree_model, X, y, cv=cv, scoring=scoring)\n",
    "        cv_scores_list.append(cv_scores)\n",
    "        cv_scores_mean.append(cv_scores.mean())\n",
    "        cv_scores_std.append(cv_scores.std())\n",
    "        accuracy_scores.append(tree_model.fit(X, y).score(X, y))\n",
    "    cv_scores_mean = np.array(cv_scores_mean)\n",
    "    cv_scores_std = np.array(cv_scores_std)\n",
    "    accuracy_scores = np.array(accuracy_scores)\n",
    "    return cv_scores_mean, cv_scores_std, accuracy_scores\n",
    "  \n",
    "# function for plotting cross-validation results\n",
    "def plot_cross_validation_on_trees(depths, cv_scores_mean, cv_scores_std, accuracy_scores, title):\n",
    "    fig, ax = plt.subplots(1,1, figsize=(15,5))\n",
    "    ax.plot(depths, cv_scores_mean, '-o', label='mean cross-validation accuracy', alpha=0.9)\n",
    "    ax.fill_between(depths, cv_scores_mean-2*cv_scores_std, cv_scores_mean+2*cv_scores_std, alpha=0.2)\n",
    "    ylim = plt.ylim()\n",
    "    ax.plot(depths, accuracy_scores, '-*', label='train accuracy', alpha=0.9)\n",
    "    ax.set_title(title, fontsize=16)\n",
    "    ax.set_xlabel('Tree depth', fontsize=14)\n",
    "    ax.set_ylabel('Accuracy', fontsize=14)\n",
    "    ax.set_ylim(ylim)\n",
    "    ax.set_xticks(depths)\n",
    "    ax.legend()\n",
    "\n",
    "# fitting trees of depth 1 to 24\n",
    "sm_tree_depths = range(1,25)\n",
    "sm_cv_scores_mean, sm_cv_scores_std, sm_accuracy_scores = run_cross_validation_on_trees(X_train, y_train, sm_tree_depths)\n",
    "\n",
    "# plotting accuracy\n",
    "plot_cross_validation_on_trees(sm_tree_depths, sm_cv_scores_mean, sm_cv_scores_std, sm_accuracy_scores, \n",
    "                               'Accuracy per decision tree depth on training data')\n"
   ]
  },
  {
   "cell_type": "code",
   "execution_count": 17,
   "id": "01d56c04",
   "metadata": {},
   "outputs": [
    {
     "name": "stdout",
     "output_type": "stream",
     "text": [
      "The depth-9 tree achieves the best mean cross-validation accuracy 51.24589 +/- 0.84045% on training dataset\n"
     ]
    }
   ],
   "source": [
    "#printing out the optimum depth\n",
    "\n",
    "idx_max = sm_cv_scores_mean.argmax()\n",
    "sm_best_tree_depth = sm_tree_depths[idx_max]\n",
    "sm_best_tree_cv_score = sm_cv_scores_mean[idx_max]\n",
    "sm_best_tree_cv_score_std = sm_cv_scores_std[idx_max]\n",
    "print('The depth-{} tree achieves the best mean cross-validation accuracy {} +/- {}% on training dataset'.format(\n",
    "      sm_best_tree_depth, round(sm_best_tree_cv_score*100,5), round(sm_best_tree_cv_score_std*100, 5)))"
   ]
  },
  {
   "attachments": {},
   "cell_type": "markdown",
   "id": "9669f862",
   "metadata": {},
   "source": [
    "The method selects tree depth 9-10 because it achieves the best average accuracy on training data using cross-validation folds with size 5. The lower bound of the confidence interval of the accuracy is high enough to make this value significant. When more nodes are added to the tree, it is clear that the cross-validation accuracy changes towards zero."
   ]
  },
  {
   "cell_type": "markdown",
   "id": "c8df7a1c",
   "metadata": {},
   "source": [
    "#### Now we print the confusion matrix"
   ]
  },
  {
   "cell_type": "code",
   "execution_count": 18,
   "id": "62276eac",
   "metadata": {},
   "outputs": [
    {
     "name": "stdout",
     "output_type": "stream",
     "text": [
      "Goodness of Fit of Model \tTrain Dataset\n",
      "Classification Accuracy \t: 0.6032215647600263\n",
      "\n",
      "Goodness of Fit of Model \tTest Dataset\n",
      "Classification Accuracy \t: 0.5187376725838264\n",
      "\n"
     ]
    },
    {
     "data": {
      "text/plain": [
       "<AxesSubplot:>"
      ]
     },
     "execution_count": 18,
     "metadata": {},
     "output_type": "execute_result"
    }
   ],
   "source": [
    "# Extract Response and Predictors\n",
    "y = pd.DataFrame(music['music_genre'])\n",
    "X = pd.DataFrame(music[predictors])\n",
    "# Split the Dataset into Train and Test\n",
    "X_train, X_test, y_train, y_test = train_test_split(X, y, test_size = 0.25) \n",
    "# Decision Tree using Train Data\n",
    "dectree = DecisionTreeClassifier(max_depth = 10)  # create the decision tree object\n",
    "dectree.fit(X_train, y_train)                    # train the decision tree model\n",
    "\n",
    "# Predict Response corresponding to Predictors\n",
    "y_train_pred = dectree.predict(X_train)\n",
    "y_test_pred = dectree.predict(X_test)\n",
    "\n",
    "# Check the Goodness of Fit (on Train Data)\n",
    "print(\"Goodness of Fit of Model \\tTrain Dataset\")\n",
    "print(\"Classification Accuracy \\t:\", dectree.score(X_train, y_train))\n",
    "print()\n",
    "\n",
    "# Check the Goodness of Fit (on Test Data)\n",
    "print(\"Goodness of Fit of Model \\tTest Dataset\")\n",
    "print(\"Classification Accuracy \\t:\", dectree.score(X_test, y_test))\n",
    "print()\n",
    "\n",
    "# Plot the Confusion Matrix for Train and Test\n",
    "f, axes = plt.subplots(1, 2, figsize=(25, 10))\n",
    "sns.heatmap(confusion_matrix(y_train, y_train_pred),\n",
    "           annot = True, fmt=\".0f\", annot_kws={\"size\": 10}, ax = axes[0])\n",
    "sns.heatmap(confusion_matrix(y_test, y_test_pred), \n",
    "           annot = True, fmt=\".0f\", annot_kws={\"size\": 10}, ax = axes[1])"
   ]
  },
  {
   "attachments": {},
   "cell_type": "markdown",
   "id": "21c10737",
   "metadata": {},
   "source": [
    "In the above confusion matrix, 0-9 are the indexes for [\"Classical\",\"Jazz\",\"Country\",\"Rock\",\"Hip-Hop\",\"Rap\",\"Anime\",\"Alternative\",\"Blues\",\"Electronic\"] respectively\n",
    "\n",
    "The \"Goodness of Fit\" refers to the performance of the model, which has been evaluated using the accuracy metric. The accuracy metric measures the proportion of correctly classified instances out of all instances.\n",
    "\n",
    "In this case, the model was trained on a training dataset and tested on a separate testing dataset. The classification accuracy for the training dataset was found to be 0.57 to 0.60 depending on the depth of tree, which means that the model correctly classified 57% to 60% of the instances in the training dataset. The classification accuracy for the testing dataset was found to be around 0.51, which means that the model correctly classified 51% of the instances in the testing dataset.\n",
    "\n",
    "This shows that the decision tree may be an acceptable model for predicting song genres"
   ]
  },
  {
   "cell_type": "markdown",
   "id": "a594f124",
   "metadata": {},
   "source": [
    "# Second Machine Learning Model: Random Forest classifier"
   ]
  },
  {
   "cell_type": "code",
   "execution_count": 19,
   "id": "13a38bab",
   "metadata": {},
   "outputs": [],
   "source": [
    "from sklearn.ensemble import RandomForestClassifier\n",
    "from sklearn.metrics import accuracy_score, confusion_matrix, precision_score, recall_score, ConfusionMatrixDisplay\n",
    "from sklearn.model_selection import RandomizedSearchCV, train_test_split\n",
    "from scipy.stats import randint"
   ]
  },
  {
   "cell_type": "markdown",
   "id": "e9bb9256",
   "metadata": {},
   "source": [
    "Import the necessary functions for Random Forest model."
   ]
  },
  {
   "cell_type": "code",
   "execution_count": 20,
   "id": "e5ea3315",
   "metadata": {},
   "outputs": [
    {
     "data": {
      "text/plain": [
       "RandomForestClassifier(max_depth=4, n_estimators=5, random_state=50)"
      ]
     },
     "execution_count": 20,
     "metadata": {},
     "output_type": "execute_result"
    }
   ],
   "source": [
    "\n",
    "rf = RandomForestClassifier(random_state=50,n_estimators=5,max_depth=4,min_samples_leaf=1)\n",
    "rf.fit(X_train, y_train.values.ravel())"
   ]
  },
  {
   "cell_type": "markdown",
   "id": "41a73098",
   "metadata": {},
   "source": [
    "Do the necessary imports, spliting data into train and test set. Setting up Randomforestclassifier with preset \"Random_state\", \"N-estimators=5\" (Number of trees in the forest), \"Max_depth=4\" (Depth of the tree), \"min_samples_leaf =1\" (min leaf to determine the split). Fitting the train values into the model.\n",
    "\n",
    "Random_State: Control the randomness involved in machine learning models\n",
    "n_estimators: Number of trees to build in the forest.\n",
    "max_depth: The depth of a tree.\n",
    "min_samples_leaf : Minimum number of samples required to be at a leaf node."
   ]
  },
  {
   "cell_type": "code",
   "execution_count": 21,
   "id": "62a97024",
   "metadata": {},
   "outputs": [
    {
     "name": "stdout",
     "output_type": "stream",
     "text": [
      "Goodness of Fit of Model \tTrain Dataset\n",
      "Classification Accuracy \t: 0.4617028270874425\n",
      "\n",
      "Goodness of Fit of Model \tTest Dataset\n",
      "Classification Accuracy \t: 0.45956607495069035\n",
      "\n"
     ]
    },
    {
     "data": {
      "text/plain": [
       "<AxesSubplot:>"
      ]
     },
     "execution_count": 21,
     "metadata": {},
     "output_type": "execute_result"
    }
   ],
   "source": [
    "y_train_pred = rf.predict(X_train)\n",
    "y_test_pred = rf.predict(X_test)\n",
    "\n",
    "# Check the Goodness of Fit (on Train Data)\n",
    "print(\"Goodness of Fit of Model \\tTrain Dataset\")\n",
    "print(\"Classification Accuracy \\t:\", accuracy_score(y_train, y_train_pred))\n",
    "print()\n",
    "\n",
    "# Check the Goodness of Fit (on Test Data)\n",
    "print(\"Goodness of Fit of Model \\tTest Dataset\")\n",
    "print(\"Classification Accuracy \\t:\", accuracy_score(y_test, y_test_pred))\n",
    "print()\n",
    "\n",
    "# Plot the Confusion Matrix for Train and Test\n",
    "f, axes = plt.subplots(1, 2, figsize=(25, 10))\n",
    "sns.heatmap(confusion_matrix(y_train, y_train_pred),\n",
    "           annot = True, fmt=\".0f\", annot_kws={\"size\": 10}, ax = axes[0])\n",
    "sns.heatmap(confusion_matrix(y_test, y_test_pred), \n",
    "           annot = True, fmt=\".0f\", annot_kws={\"size\": 10}, ax = axes[1])"
   ]
  },
  {
   "cell_type": "markdown",
   "id": "2a68c7a3",
   "metadata": {},
   "source": [
    "Using random forest classifier for the data training, with some pre-defined parameter returns both train and test classification accuracy of 0.47. which means that the model correctly classified 47% of the instances in both training and testing dataset. To further improve our modelling, we went on to implement GridSearch CV to improve our model.\n"
   ]
  },
  {
   "cell_type": "markdown",
   "id": "54c1257c",
   "metadata": {},
   "source": [
    "## Implementing GridSearchCV\n"
   ]
  },
  {
   "cell_type": "code",
   "execution_count": 22,
   "id": "c114f462",
   "metadata": {},
   "outputs": [],
   "source": [
    "from sklearn.model_selection import GridSearchCV"
   ]
  },
  {
   "cell_type": "markdown",
   "id": "47e7d218",
   "metadata": {},
   "source": [
    "#### The code below takes around 12minutes to run, since GridSearchCV fit algorithm is O(n^2) at best, so it is extremely slow. Hyper parameters tuning."
   ]
  },
  {
   "cell_type": "code",
   "execution_count": 23,
   "id": "674579c2",
   "metadata": {},
   "outputs": [
    {
     "data": {
      "text/plain": [
       "GridSearchCV(cv=5, estimator=RandomForestClassifier(),\n",
       "             param_grid={'max_depth': [1, 2, 3, 4, 5, 6, 7, 8, 9, 10],\n",
       "                         'min_samples_leaf': [1, 2, 3, 4, 5],\n",
       "                         'n_estimators': [10, 15, 20, 25, 30, 35]},\n",
       "             scoring='accuracy')"
      ]
     },
     "execution_count": 23,
     "metadata": {},
     "output_type": "execute_result"
    }
   ],
   "source": [
    "grid_param = {\n",
    "    \"n_estimators\": [10, 15, 20, 25, 30, 35],\n",
    "    \"max_depth\": [1, 2, 3, 4, 5, 6, 7, 8, 9, 10],\n",
    "    \"min_samples_leaf\": [1, 2, 3, 4, 5]\n",
    "}\n",
    "grid_search = GridSearchCV(RandomForestClassifier(),param_grid=grid_param,scoring=\"accuracy\",cv=5)\n",
    "grid_search.fit(X_train,y_train.values.ravel())"
   ]
  },
  {
   "cell_type": "markdown",
   "id": "f036fb93",
   "metadata": {},
   "source": [
    "In the grid_param {} each dictionary in the list will be used to explore. GridSearchCV for hyperparameter tuning in order to locate the best hyperparameters and improve model performance. In the function we predefined a list of values in grid_param for max_depth, n_estimators and minimum sample leaf to be looped through and fit the model on our training set."
   ]
  },
  {
   "cell_type": "code",
   "execution_count": 24,
   "id": "5ce317d7",
   "metadata": {},
   "outputs": [
    {
     "data": {
      "text/plain": [
       "{'max_depth': 10, 'min_samples_leaf': 1, 'n_estimators': 35}"
      ]
     },
     "execution_count": 24,
     "metadata": {},
     "output_type": "execute_result"
    }
   ],
   "source": [
    "grid_search.best_params_"
   ]
  },
  {
   "cell_type": "markdown",
   "id": "cc794a16",
   "metadata": {},
   "source": [
    "Retrieving the best parameters for model learning."
   ]
  },
  {
   "cell_type": "code",
   "execution_count": 25,
   "id": "0f9a6d82",
   "metadata": {},
   "outputs": [
    {
     "data": {
      "text/plain": [
       "RandomForestClassifier(max_depth=10, n_estimators=35)"
      ]
     },
     "execution_count": 25,
     "metadata": {},
     "output_type": "execute_result"
    }
   ],
   "source": [
    "rf3 = RandomForestClassifier(n_estimators = grid_search.best_params_['n_estimators'], max_depth = grid_search.best_params_['max_depth'], min_samples_leaf = grid_search.best_params_['min_samples_leaf'])\n",
    "rf3.fit(X_train, y_train.values.ravel())"
   ]
  },
  {
   "cell_type": "markdown",
   "id": "5dd85ce8",
   "metadata": {},
   "source": [
    "Fitting the best parameters into the classifier."
   ]
  },
  {
   "cell_type": "code",
   "execution_count": 26,
   "id": "6d6a6530",
   "metadata": {},
   "outputs": [
    {
     "name": "stdout",
     "output_type": "stream",
     "text": [
      "Goodness of Fit of Model \tTrain Dataset\n",
      "Classification Accuracy \t: 0.6673898750821827\n",
      "\n",
      "Goodness of Fit of Model \tTest Dataset\n",
      "Classification Accuracy \t: 0.5678500986193293\n",
      "\n"
     ]
    },
    {
     "data": {
      "text/plain": [
       "<AxesSubplot:>"
      ]
     },
     "execution_count": 26,
     "metadata": {},
     "output_type": "execute_result"
    }
   ],
   "source": [
    "y_train_pred3 = rf3.predict(X_train)\n",
    "y_test_pred3 = rf3.predict(X_test)\n",
    "\n",
    "# Check the Goodness of Fit (on Train Data)\n",
    "print(\"Goodness of Fit of Model \\tTrain Dataset\")\n",
    "print(\"Classification Accuracy \\t:\", accuracy_score(y_train, y_train_pred3))\n",
    "print()\n",
    "\n",
    "# Check the Goodness of Fit (on Test Data)\n",
    "print(\"Goodness of Fit of Model \\tTest Dataset\")\n",
    "print(\"Classification Accuracy \\t:\", accuracy_score(y_test, y_test_pred3))\n",
    "print()\n",
    "\n",
    "# Plot the Confusion Matrix for Train and Test\n",
    "f, axes = plt.subplots(1, 2, figsize=(25, 10))\n",
    "sns.heatmap(confusion_matrix(y_train, y_train_pred3),\n",
    "           annot = True, fmt=\".0f\", annot_kws={\"size\": 10}, ax = axes[0])\n",
    "sns.heatmap(confusion_matrix(y_test, y_test_pred3), \n",
    "           annot = True, fmt=\".0f\", annot_kws={\"size\": 10}, ax = axes[1])"
   ]
  },
  {
   "cell_type": "markdown",
   "id": "336ed768",
   "metadata": {},
   "source": [
    "Using the GridSearch CV does returns us a better classification accuracy. Random forest classifiers generated a better outcome than decision tree after applying both models to our dataset. Therefore, the best method would be to forecast music genres using random forest classifiers. \n",
    "\n",
    "Although the outcome might not be the best, 0.66 and 0.56 accuracy are regarded as relatively decent in predicting the music genres based on audio attributes given that it comprises numerous classes and does not have a strong association between each variable and its response \"genre\". Hence, based on the research and findings we have done, it is possible to predict the genre of a song using its auditory characteristics. However, there are more to be explored."
   ]
  }
 ],
 "metadata": {
  "kernelspec": {
   "display_name": "Python 3 (ipykernel)",
   "language": "python",
   "name": "python3"
  },
  "language_info": {
   "codemirror_mode": {
    "name": "ipython",
    "version": 3
   },
   "file_extension": ".py",
   "mimetype": "text/x-python",
   "name": "python",
   "nbconvert_exporter": "python",
   "pygments_lexer": "ipython3",
   "version": "3.9.13"
  }
 },
 "nbformat": 4,
 "nbformat_minor": 5
}
