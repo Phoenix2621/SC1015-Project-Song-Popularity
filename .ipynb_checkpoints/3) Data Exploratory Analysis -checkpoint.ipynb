{
 "cells": [
  {
   "cell_type": "code",
   "execution_count": 2,
   "id": "5e8b8d85",
   "metadata": {},
   "outputs": [],
   "source": [
    "#importing libraries\n",
    "\n",
    "import numpy as np\n",
    "import pandas as pd\n",
    "import seaborn as sns\n",
    "import matplotlib.pyplot as plt # we only need pyplot\n",
    "from sklearn.model_selection import train_test_split\n",
    "from sklearn.linear_model import LinearRegression\n",
    "from sklearn.metrics import mean_squared_error\n",
    "from datetime import datetime"
   ]
  },
  {
   "cell_type": "code",
   "execution_count": 4,
   "id": "d9946bee",
   "metadata": {},
   "outputs": [
    {
     "data": {
      "text/html": [
       "<div>\n",
       "<style scoped>\n",
       "    .dataframe tbody tr th:only-of-type {\n",
       "        vertical-align: middle;\n",
       "    }\n",
       "\n",
       "    .dataframe tbody tr th {\n",
       "        vertical-align: top;\n",
       "    }\n",
       "\n",
       "    .dataframe thead th {\n",
       "        text-align: right;\n",
       "    }\n",
       "</style>\n",
       "<table border=\"1\" class=\"dataframe\">\n",
       "  <thead>\n",
       "    <tr style=\"text-align: right;\">\n",
       "      <th></th>\n",
       "      <th>Unnamed: 0</th>\n",
       "      <th>artist_name</th>\n",
       "      <th>popularity</th>\n",
       "      <th>acousticness</th>\n",
       "      <th>danceability</th>\n",
       "      <th>duration_ms</th>\n",
       "      <th>energy</th>\n",
       "      <th>instrumentalness</th>\n",
       "      <th>key</th>\n",
       "      <th>liveness</th>\n",
       "      <th>loudness</th>\n",
       "      <th>mode</th>\n",
       "      <th>speechiness</th>\n",
       "      <th>tempo</th>\n",
       "      <th>valence</th>\n",
       "      <th>music_genre</th>\n",
       "    </tr>\n",
       "  </thead>\n",
       "  <tbody>\n",
       "    <tr>\n",
       "      <th>0</th>\n",
       "      <td>0</td>\n",
       "      <td>Thievery Corporation</td>\n",
       "      <td>31.0</td>\n",
       "      <td>0.01270</td>\n",
       "      <td>0.622</td>\n",
       "      <td>218293.0</td>\n",
       "      <td>0.890</td>\n",
       "      <td>0.950000</td>\n",
       "      <td>D</td>\n",
       "      <td>0.124</td>\n",
       "      <td>-7.043</td>\n",
       "      <td>Minor</td>\n",
       "      <td>0.0300</td>\n",
       "      <td>115.002</td>\n",
       "      <td>0.531</td>\n",
       "      <td>Electronic</td>\n",
       "    </tr>\n",
       "    <tr>\n",
       "      <th>1</th>\n",
       "      <td>1</td>\n",
       "      <td>Dillon Francis</td>\n",
       "      <td>28.0</td>\n",
       "      <td>0.00306</td>\n",
       "      <td>0.620</td>\n",
       "      <td>215613.0</td>\n",
       "      <td>0.755</td>\n",
       "      <td>0.011800</td>\n",
       "      <td>G#</td>\n",
       "      <td>0.534</td>\n",
       "      <td>-4.617</td>\n",
       "      <td>Major</td>\n",
       "      <td>0.0345</td>\n",
       "      <td>127.994</td>\n",
       "      <td>0.333</td>\n",
       "      <td>Electronic</td>\n",
       "    </tr>\n",
       "    <tr>\n",
       "      <th>2</th>\n",
       "      <td>2</td>\n",
       "      <td>Dubloadz</td>\n",
       "      <td>34.0</td>\n",
       "      <td>0.02540</td>\n",
       "      <td>0.774</td>\n",
       "      <td>166875.0</td>\n",
       "      <td>0.700</td>\n",
       "      <td>0.002530</td>\n",
       "      <td>C#</td>\n",
       "      <td>0.157</td>\n",
       "      <td>-4.498</td>\n",
       "      <td>Major</td>\n",
       "      <td>0.2390</td>\n",
       "      <td>128.014</td>\n",
       "      <td>0.270</td>\n",
       "      <td>Electronic</td>\n",
       "    </tr>\n",
       "    <tr>\n",
       "      <th>3</th>\n",
       "      <td>3</td>\n",
       "      <td>What So Not</td>\n",
       "      <td>32.0</td>\n",
       "      <td>0.00465</td>\n",
       "      <td>0.638</td>\n",
       "      <td>222369.0</td>\n",
       "      <td>0.587</td>\n",
       "      <td>0.909000</td>\n",
       "      <td>F#</td>\n",
       "      <td>0.157</td>\n",
       "      <td>-6.266</td>\n",
       "      <td>Major</td>\n",
       "      <td>0.0413</td>\n",
       "      <td>145.036</td>\n",
       "      <td>0.323</td>\n",
       "      <td>Electronic</td>\n",
       "    </tr>\n",
       "    <tr>\n",
       "      <th>4</th>\n",
       "      <td>4</td>\n",
       "      <td>Jordan Comolli</td>\n",
       "      <td>46.0</td>\n",
       "      <td>0.02890</td>\n",
       "      <td>0.572</td>\n",
       "      <td>214408.0</td>\n",
       "      <td>0.803</td>\n",
       "      <td>0.000008</td>\n",
       "      <td>B</td>\n",
       "      <td>0.106</td>\n",
       "      <td>-4.294</td>\n",
       "      <td>Major</td>\n",
       "      <td>0.3510</td>\n",
       "      <td>149.995</td>\n",
       "      <td>0.230</td>\n",
       "      <td>Electronic</td>\n",
       "    </tr>\n",
       "    <tr>\n",
       "      <th>...</th>\n",
       "      <td>...</td>\n",
       "      <td>...</td>\n",
       "      <td>...</td>\n",
       "      <td>...</td>\n",
       "      <td>...</td>\n",
       "      <td>...</td>\n",
       "      <td>...</td>\n",
       "      <td>...</td>\n",
       "      <td>...</td>\n",
       "      <td>...</td>\n",
       "      <td>...</td>\n",
       "      <td>...</td>\n",
       "      <td>...</td>\n",
       "      <td>...</td>\n",
       "      <td>...</td>\n",
       "      <td>...</td>\n",
       "    </tr>\n",
       "    <tr>\n",
       "      <th>40555</th>\n",
       "      <td>40555</td>\n",
       "      <td>Night Lovell</td>\n",
       "      <td>56.0</td>\n",
       "      <td>0.13300</td>\n",
       "      <td>0.849</td>\n",
       "      <td>237667.0</td>\n",
       "      <td>0.660</td>\n",
       "      <td>0.000008</td>\n",
       "      <td>C</td>\n",
       "      <td>0.296</td>\n",
       "      <td>-7.195</td>\n",
       "      <td>Major</td>\n",
       "      <td>0.0516</td>\n",
       "      <td>99.988</td>\n",
       "      <td>0.629</td>\n",
       "      <td>Hip-Hop</td>\n",
       "    </tr>\n",
       "    <tr>\n",
       "      <th>40556</th>\n",
       "      <td>40556</td>\n",
       "      <td>Roy Woods</td>\n",
       "      <td>72.0</td>\n",
       "      <td>0.15700</td>\n",
       "      <td>0.709</td>\n",
       "      <td>251860.0</td>\n",
       "      <td>0.362</td>\n",
       "      <td>0.000000</td>\n",
       "      <td>B</td>\n",
       "      <td>0.109</td>\n",
       "      <td>-9.814</td>\n",
       "      <td>Major</td>\n",
       "      <td>0.0550</td>\n",
       "      <td>122.043</td>\n",
       "      <td>0.113</td>\n",
       "      <td>Hip-Hop</td>\n",
       "    </tr>\n",
       "    <tr>\n",
       "      <th>40557</th>\n",
       "      <td>40557</td>\n",
       "      <td>Berner</td>\n",
       "      <td>51.0</td>\n",
       "      <td>0.00597</td>\n",
       "      <td>0.693</td>\n",
       "      <td>189483.0</td>\n",
       "      <td>0.763</td>\n",
       "      <td>0.000000</td>\n",
       "      <td>D</td>\n",
       "      <td>0.143</td>\n",
       "      <td>-5.443</td>\n",
       "      <td>Major</td>\n",
       "      <td>0.1460</td>\n",
       "      <td>131.079</td>\n",
       "      <td>0.395</td>\n",
       "      <td>Hip-Hop</td>\n",
       "    </tr>\n",
       "    <tr>\n",
       "      <th>40558</th>\n",
       "      <td>40558</td>\n",
       "      <td>The-Dream</td>\n",
       "      <td>65.0</td>\n",
       "      <td>0.08310</td>\n",
       "      <td>0.782</td>\n",
       "      <td>262773.0</td>\n",
       "      <td>0.472</td>\n",
       "      <td>0.000000</td>\n",
       "      <td>G</td>\n",
       "      <td>0.106</td>\n",
       "      <td>-5.016</td>\n",
       "      <td>Minor</td>\n",
       "      <td>0.0441</td>\n",
       "      <td>75.886</td>\n",
       "      <td>0.354</td>\n",
       "      <td>Hip-Hop</td>\n",
       "    </tr>\n",
       "    <tr>\n",
       "      <th>40559</th>\n",
       "      <td>40559</td>\n",
       "      <td>Naughty By Nature</td>\n",
       "      <td>67.0</td>\n",
       "      <td>0.10200</td>\n",
       "      <td>0.862</td>\n",
       "      <td>267267.0</td>\n",
       "      <td>0.642</td>\n",
       "      <td>0.000000</td>\n",
       "      <td>F#</td>\n",
       "      <td>0.272</td>\n",
       "      <td>-13.652</td>\n",
       "      <td>Minor</td>\n",
       "      <td>0.1010</td>\n",
       "      <td>99.201</td>\n",
       "      <td>0.765</td>\n",
       "      <td>Hip-Hop</td>\n",
       "    </tr>\n",
       "  </tbody>\n",
       "</table>\n",
       "<p>40560 rows × 16 columns</p>\n",
       "</div>"
      ],
      "text/plain": [
       "       Unnamed: 0           artist_name  popularity  acousticness  \\\n",
       "0               0  Thievery Corporation        31.0       0.01270   \n",
       "1               1        Dillon Francis        28.0       0.00306   \n",
       "2               2              Dubloadz        34.0       0.02540   \n",
       "3               3           What So Not        32.0       0.00465   \n",
       "4               4        Jordan Comolli        46.0       0.02890   \n",
       "...           ...                   ...         ...           ...   \n",
       "40555       40555          Night Lovell        56.0       0.13300   \n",
       "40556       40556             Roy Woods        72.0       0.15700   \n",
       "40557       40557                Berner        51.0       0.00597   \n",
       "40558       40558             The-Dream        65.0       0.08310   \n",
       "40559       40559     Naughty By Nature        67.0       0.10200   \n",
       "\n",
       "       danceability  duration_ms  energy  instrumentalness key  liveness  \\\n",
       "0             0.622     218293.0   0.890          0.950000   D     0.124   \n",
       "1             0.620     215613.0   0.755          0.011800  G#     0.534   \n",
       "2             0.774     166875.0   0.700          0.002530  C#     0.157   \n",
       "3             0.638     222369.0   0.587          0.909000  F#     0.157   \n",
       "4             0.572     214408.0   0.803          0.000008   B     0.106   \n",
       "...             ...          ...     ...               ...  ..       ...   \n",
       "40555         0.849     237667.0   0.660          0.000008   C     0.296   \n",
       "40556         0.709     251860.0   0.362          0.000000   B     0.109   \n",
       "40557         0.693     189483.0   0.763          0.000000   D     0.143   \n",
       "40558         0.782     262773.0   0.472          0.000000   G     0.106   \n",
       "40559         0.862     267267.0   0.642          0.000000  F#     0.272   \n",
       "\n",
       "       loudness   mode  speechiness    tempo  valence music_genre  \n",
       "0        -7.043  Minor       0.0300  115.002    0.531  Electronic  \n",
       "1        -4.617  Major       0.0345  127.994    0.333  Electronic  \n",
       "2        -4.498  Major       0.2390  128.014    0.270  Electronic  \n",
       "3        -6.266  Major       0.0413  145.036    0.323  Electronic  \n",
       "4        -4.294  Major       0.3510  149.995    0.230  Electronic  \n",
       "...         ...    ...          ...      ...      ...         ...  \n",
       "40555    -7.195  Major       0.0516   99.988    0.629     Hip-Hop  \n",
       "40556    -9.814  Major       0.0550  122.043    0.113     Hip-Hop  \n",
       "40557    -5.443  Major       0.1460  131.079    0.395     Hip-Hop  \n",
       "40558    -5.016  Minor       0.0441   75.886    0.354     Hip-Hop  \n",
       "40559   -13.652  Minor       0.1010   99.201    0.765     Hip-Hop  \n",
       "\n",
       "[40560 rows x 16 columns]"
      ]
     },
     "execution_count": 4,
     "metadata": {},
     "output_type": "execute_result"
    }
   ],
   "source": [
    "music = pd.read_csv(\"cleaned_music.csv\")\n",
    "music"
   ]
  },
  {
   "cell_type": "code",
   "execution_count": 6,
   "id": "244debeb",
   "metadata": {},
   "outputs": [],
   "source": [
    "music = music.drop([\"Unnamed: 0\"], axis = 1)"
   ]
  },
  {
   "cell_type": "markdown",
   "id": "6334562d",
   "metadata": {},
   "source": [
    "# 3) Exploratory Analysis"
   ]
  },
  {
   "cell_type": "markdown",
   "id": "6a1e1b33",
   "metadata": {},
   "source": [
    "Looking at the top 20 artists with the most number of songs"
   ]
  },
  {
   "cell_type": "code",
   "execution_count": null,
   "id": "4586f2b1",
   "metadata": {},
   "outputs": [],
   "source": [
    "artists = music[\"artist_name\"].value_counts()[:20].sort_values(ascending = True)"
   ]
  },
  {
   "cell_type": "code",
   "execution_count": null,
   "id": "6ac26fc6",
   "metadata": {},
   "outputs": [],
   "source": [
    "artists"
   ]
  },
  {
   "cell_type": "code",
   "execution_count": null,
   "id": "33d45860",
   "metadata": {},
   "outputs": [],
   "source": [
    "plt.barh(artists.index, artists)\n",
    "plt.xlabel(\"Number of songs per artist\")\n",
    "plt.title(\"Songs per artist\")\n",
    "plt.show()"
   ]
  },
  {
   "cell_type": "markdown",
   "id": "e17c52fd",
   "metadata": {},
   "source": [
    "It seems the dataset was compiled by Japanese authors or in Japan since several artists in top20 are from the Land of the Rising Sun. Furthermore, many composers (e.g., Mozart, Beethoven, etc.) also found their place in this list. Now, to avoid large number of features, the artist_name is removed."
   ]
  },
  {
   "cell_type": "code",
   "execution_count": null,
   "id": "af678a64",
   "metadata": {},
   "outputs": [],
   "source": [
    "music.drop(\"artist_name\", axis = 1, inplace = True)"
   ]
  },
  {
   "cell_type": "markdown",
   "id": "6d62bf20",
   "metadata": {},
   "source": [
    "A brief check shows that most of the features hold numerical values save three columns which has categorical data. All feature are explored further in the next chapter."
   ]
  },
  {
   "cell_type": "code",
   "execution_count": null,
   "id": "1e2f4895",
   "metadata": {},
   "outputs": [],
   "source": [
    "music.head()"
   ]
  },
  {
   "cell_type": "markdown",
   "id": "337cf26f",
   "metadata": {},
   "source": [
    "Visualizing Data\n",
    "\n",
    "Visualizing counts and distributions simplify overview and understanding of data. The plots below show counts in each class in the three categorical features."
   ]
  },
  {
   "cell_type": "code",
   "execution_count": null,
   "id": "a267b191",
   "metadata": {},
   "outputs": [],
   "source": [
    "def plot_counts(feature, order = None):\n",
    "    sns.countplot(x = feature, data = music, palette = \"ocean\", order = order)\n",
    "    plt.title(f\"Counts in each {feature}\")\n",
    "    plt.show()"
   ]
  },
  {
   "cell_type": "markdown",
   "id": "1ef7ce16",
   "metadata": {},
   "source": [
    "The plot below shows how many times each key present in the dataset. The most frequent one is \"C\" and the least frequent one is \"D#\""
   ]
  },
  {
   "cell_type": "code",
   "execution_count": null,
   "id": "063300fb",
   "metadata": {},
   "outputs": [],
   "source": [
    "plot_counts(\"key\", [\"A\", \"A#\", \"B\", \"C\", \"C#\", \"D\", \"D#\", \"E\", \"F\", \"F#\", \"G\", \"G#\"])"
   ]
  },
  {
   "cell_type": "markdown",
   "id": "5b6c7424",
   "metadata": {},
   "source": [
    "The plot below shows the mode in all songs of the dataset.\n",
    "\n",
    "Majority of the songs are in \"major\" mode."
   ]
  },
  {
   "cell_type": "code",
   "execution_count": null,
   "id": "5d8b87e2",
   "metadata": {},
   "outputs": [],
   "source": [
    "plot_counts(\"mode\")"
   ]
  },
  {
   "cell_type": "markdown",
   "id": "279c5a0b",
   "metadata": {},
   "source": [
    "The plot below shows the genre of songs"
   ]
  },
  {
   "cell_type": "code",
   "execution_count": null,
   "id": "2a63ebc7",
   "metadata": {},
   "outputs": [],
   "source": [
    "plt.figure(figsize = (16, 8))\n",
    "plot_counts(\"music_genre\")"
   ]
  },
  {
   "cell_type": "markdown",
   "id": "6d15055d",
   "metadata": {},
   "source": [
    "We then move on to looking at the continous variables.\n",
    "Distribution of continuous values in numeric features is displayed on subplots to spare time and space.\n",
    "\n",
    "It turns out that tempo column has error values. Tempo means the speed at which a piece of music should be played. Instead of floats, some samples (4720) have a question mark (?) in this feature (see below)."
   ]
  },
  {
   "cell_type": "code",
   "execution_count": null,
   "id": "3cfc4d4f",
   "metadata": {},
   "outputs": [],
   "source": [
    "music[music[\"tempo\"] == \"?\"]"
   ]
  },
  {
   "cell_type": "markdown",
   "id": "eb8c8b11",
   "metadata": {},
   "source": [
    "In general, wrong values could be replaced with estimated (correct, plausible values), or with those of neighbouring cells but this approach is not feasible in this case. Rows' order does not follow any logic, thus assigning a value similar to the one in the previous or in the next sample wouldn't work. Similarly, feature's mode or a median wouldn't be correct either. A possible approach to address this problem is to group samples by genre, and to enter a mean tempo value for the given class. However, to keep the task as simple as possible, all rows with error values in tempo are removed. Thereafter, their type is converted to \"float\""
   ]
  },
  {
   "cell_type": "code",
   "execution_count": null,
   "id": "571dd9bd",
   "metadata": {},
   "outputs": [],
   "source": [
    "music = music.drop(music[music[\"tempo\"] == \"?\"].index)\n",
    "music[\"tempo\"] = music[\"tempo\"].astype(\"float\")\n",
    "music[\"tempo\"] = np.around(music[\"tempo\"], decimals = 2)"
   ]
  },
  {
   "cell_type": "markdown",
   "id": "5c235dfb",
   "metadata": {},
   "source": [
    "Displaying distributions is possible only for features holding numeric values. For this reason, they are stored in a separate variable."
   ]
  },
  {
   "cell_type": "code",
   "execution_count": null,
   "id": "a6447347",
   "metadata": {},
   "outputs": [],
   "source": [
    "numeric_features = music.drop([\"key\", \"music_genre\", \"mode\"], axis = 1)"
   ]
  },
  {
   "cell_type": "markdown",
   "id": "72020ce9",
   "metadata": {},
   "source": [
    "The code lines below display the distributions of all numeric features on subplots. They are interpreted thereafter."
   ]
  },
  {
   "cell_type": "code",
   "execution_count": null,
   "id": "2bb488ae",
   "metadata": {},
   "outputs": [],
   "source": [
    "fig, axs = plt.subplots(ncols = 3, nrows = 4, figsize = (15, 15))\n",
    "fig.delaxes(axs[3][2])\n",
    "index = 0\n",
    "\n",
    "axs = axs.flatten()\n",
    "for k, v in numeric_features.items():\n",
    "    sns.histplot(v, ax = axs[index])\n",
    "    index += 1\n",
    "plt.tight_layout(pad = 0.4, w_pad = 0.5, h_pad = 5.0)"
   ]
  },
  {
   "cell_type": "markdown",
   "id": "7992000c",
   "metadata": {},
   "source": [
    "Music characteristics are well explained here. Popularity has bi-modal distribution having peaks at around 48 and 55. Some values have much higher frequencies. In fact, it is not quite clear what \"popularity\" means here - the number of weeks in a chart, or number of points obtained after a survey (for example).\n",
    "\n",
    "Acousticness is measured on a scale of 0.0 (not acoustic) to 1.0 (very acoustic). Songs with higher acousticness are more likely to use acoustic and non-electronic instruments. The second subplot shows that most songs / music pieces are not acoustic.\n",
    "\n",
    "Danceability quantifies how suitable a track is for dancing based on a combination of musical elements, like tempo, rhythm, and beat. Songs with higher danceability have stronger and more regular beats. Like acousticness, danceability is measured on a scale of 0.0 (low danceability) to 1.0 (high danceability). In terms of danceability, values in this feature have - more or less - normal distribution.\n",
    "\n",
    "Music duration is given in milliseconds. Most samples are not longer than 0.3e6 (300 000) milliseconds, or 300 seconds, or exactly 5 minutes. Sounds reasonable.\n",
    "\n",
    "Energy measures the perceived intensity and activity of a song. Energy is also measured on a scale of 0.0 (low energy) to 1.0 (high energy). Songs with higher energy are more intense, dynamic, and loud. The distribution on the fifth subplot shows that most of the music pieces are described with high energy.\n",
    "\n",
    "On the other hand, instrumentalness predicts whether a track contains vocals. Instrumentalness is measured on a scale of 0.0 (likely contains vocal content) to 1.0 (likely contains no vocal content). Songs with higher instrumentalness are less likely to have vocals. Distribution of values in terms of instrumentalness is quite skewed - most samples has value of 0 or around 0, which means the songs are characterized with vocal content.\n",
    "\n",
    "Liveness detects the presence of an audience in a song. Liveness is also measured on a scale of 0.0 (no audience) to 1.0 (audible audience). Songs with higher liveness are more likely to have been performed live. It seems the songs in our dataset are performed without audience - most liveness values are closer to 0.0 than to 1.0.\n",
    "\n",
    "The next feature is loudness - it measures the decibel level of a song. Decibels are relative to a reference value, so songs with lower loudness values are quieter relative to the reference value of 0. Taking this into account, value distribution in loudness shows that most music samples are quieter (their loudness is closer to 0).\n",
    "\n",
    "Speechiness measures the presence of spoken words in a song. It is measured on a scale of 0.0 (low speechiness) to 1.0 (high speechiness). Songs with higher speechiness are mostly composed of spoken words, like poetry or a talk show. Distribution of speechiness is rather skewed on the right - most songs / pieces seem to have no or very small number of spoken words.\n",
    "\n",
    "Tempo measures the beats per minute (bpm) of a song. Many popular songs range from 50 bpm to 200 bpm. Songs with higher tempo have a faster pace. Distribution of tempo values is very similar to the one of \"popularity\".\n",
    "\n",
    "And finally, valence measures the positivity of a song. It is measured on a scale from 0.0 (low valence) to 1.0 (high valence). Songs with higher valence sound happier and more cheerful. Distribution of valence in out dataset is not normal - valence of most songs is somewhere between 0.2 and 0.7. Only a tiny number of songs are characterised with high valence.\n",
    "\n",
    "The code lines below help for displaying numeric features on boxplots. The latter are very useful for identifying outliers, i.e., extreme or wrong values in a feature. Outliers could distort model training and inference. For this reason, it is a good practice (whenever possible and justifiable) to remove them. A brief overview of outliers is given below the plots."
   ]
  },
  {
   "cell_type": "code",
   "execution_count": null,
   "id": "8ad04621",
   "metadata": {},
   "outputs": [],
   "source": [
    "fig, axs = plt.subplots(ncols = 3, nrows = 4, figsize = (15, 15))\n",
    "fig.delaxes(axs[3][2])\n",
    "idx = 0\n",
    "axs = axs.flatten()\n",
    "for k, v in numeric_features.items():\n",
    "    sns.boxplot(y = k, data = numeric_features, ax = axs[idx])\n",
    "    idx += 1\n",
    "plt.tight_layout(pad = 0.4, w_pad = 0.5, h_pad = 5.0)"
   ]
  },
  {
   "cell_type": "markdown",
   "id": "b5272f16",
   "metadata": {},
   "source": [
    "A small number of outliers are seen in popularity, danceability, and tempo. On the other hand, many extreme values are found in duration, instrumentlness, liveness, loudness, and speechiness. Since the overall objective of this exercise is not devising the best model but to interpret classification outputs, outliers are not removed.\n",
    "\n",
    "Now, we will look at the correlation between song genre and every variable. Variables with high correlation will be the predictors for our response.\n",
    "\n",
    "Below are the boxplots showing the correlation between song genres and acousticness"
   ]
  },
  {
   "cell_type": "code",
   "execution_count": null,
   "id": "32d945c1",
   "metadata": {},
   "outputs": [],
   "source": [
    "group_means=music.groupby(['music_genre'])['acousticness'].median().sort_values(ascending=True)\n",
    "\n",
    "plt.figure(figsize=(35,12))\n",
    "plt.ylim(0,1.0)\n",
    "sns.boxplot(x='music_genre', y='acousticness', order=group_means.index,data=music)\n",
    "plt.show()"
   ]
  },
  {
   "cell_type": "markdown",
   "id": "8ea24c25",
   "metadata": {},
   "source": [
    "Below are the boxplots showing the correlation between song genres and energy"
   ]
  },
  {
   "cell_type": "code",
   "execution_count": null,
   "id": "312381f1",
   "metadata": {},
   "outputs": [],
   "source": [
    "group_means=music.groupby(['music_genre'])['energy'].median().sort_values(ascending=True)\n",
    "\n",
    "plt.figure(figsize=(35,12))\n",
    "plt.ylim(0.0,1.5)\n",
    "sns.boxplot(x='music_genre', y='energy', order=group_means.index,data=music)\n",
    "plt.show()"
   ]
  },
  {
   "cell_type": "markdown",
   "id": "b428cfb1",
   "metadata": {},
   "source": [
    "Below are the boxplots showing the correlation between song genres and popularity"
   ]
  },
  {
   "cell_type": "code",
   "execution_count": null,
   "id": "aedda0de",
   "metadata": {},
   "outputs": [],
   "source": [
    "group_means=music.groupby(['music_genre'])['popularity'].median().sort_values(ascending=True)\n",
    "\n",
    "plt.figure(figsize=(35,12))\n",
    "plt.ylim(0.0,100)\n",
    "sns.boxplot(x='music_genre', y='popularity', order=group_means.index,data=music)\n",
    "plt.show()"
   ]
  },
  {
   "cell_type": "markdown",
   "id": "965f7c6e",
   "metadata": {},
   "source": [
    "Below are the boxplots showing the correlation between song genres and danceability"
   ]
  },
  {
   "cell_type": "code",
   "execution_count": null,
   "id": "15cfa795",
   "metadata": {},
   "outputs": [],
   "source": [
    "group_means=music.groupby(['music_genre'])['danceability'].median().sort_values(ascending=True)\n",
    "\n",
    "plt.figure(figsize=(35,12))\n",
    "plt.ylim(0.0,1.5)\n",
    "sns.boxplot(x='music_genre', y='danceability', order=group_means.index,data=music)\n",
    "plt.show()"
   ]
  },
  {
   "cell_type": "markdown",
   "id": "912f72c9",
   "metadata": {},
   "source": [
    "Below are the boxplots showing the correlation between song genres and duration_ms"
   ]
  },
  {
   "cell_type": "code",
   "execution_count": null,
   "id": "a46d38ae",
   "metadata": {},
   "outputs": [],
   "source": [
    "group_means=music.groupby(['music_genre'])['duration_ms'].median().sort_values(ascending=True)\n",
    "\n",
    "plt.figure(figsize=(35,12))\n",
    "plt.ylim(0.0,1000000)\n",
    "sns.boxplot(x='music_genre', y='duration_ms', order=group_means.index,data=music)\n",
    "plt.show()"
   ]
  },
  {
   "cell_type": "markdown",
   "id": "e648f668",
   "metadata": {},
   "source": [
    "Below are the boxplots showing the correlation between song genres and liveness"
   ]
  },
  {
   "cell_type": "code",
   "execution_count": null,
   "id": "ffd4a3f7",
   "metadata": {},
   "outputs": [],
   "source": [
    "group_means=music.groupby(['music_genre'])['liveness'].median().sort_values(ascending=True)\n",
    "\n",
    "plt.figure(figsize=(35,12))\n",
    "plt.ylim(0.0,1.5)\n",
    "sns.boxplot(x='music_genre', y='liveness', order=group_means.index,data=music)\n",
    "plt.show()"
   ]
  },
  {
   "cell_type": "markdown",
   "id": "06ca0d51",
   "metadata": {},
   "source": [
    "Below are the boxplots showing the correlation between song genres and loudness"
   ]
  },
  {
   "cell_type": "code",
   "execution_count": null,
   "id": "6ebb58d3",
   "metadata": {},
   "outputs": [],
   "source": [
    "group_means=music.groupby(['music_genre'])['loudness'].median().sort_values(ascending=True)\n",
    "\n",
    "plt.figure(figsize=(35,12))\n",
    "plt.ylim(-60,10)\n",
    "sns.boxplot(x='music_genre', y='loudness', order=group_means.index,data=music)\n",
    "plt.show()"
   ]
  },
  {
   "cell_type": "markdown",
   "id": "8a6d2847",
   "metadata": {},
   "source": [
    "Below are the boxplots showing the correlation between song genres and speechiness"
   ]
  },
  {
   "cell_type": "code",
   "execution_count": null,
   "id": "75d1a0bb",
   "metadata": {},
   "outputs": [],
   "source": [
    "group_means=music.groupby(['music_genre'])['speechiness'].median().sort_values(ascending=True)\n",
    "\n",
    "plt.figure(figsize=(35,12))\n",
    "plt.ylim(0.0,1.5)\n",
    "sns.boxplot(x='music_genre', y='speechiness', order=group_means.index,data=music)\n",
    "plt.show()"
   ]
  },
  {
   "cell_type": "markdown",
   "id": "43d7710a",
   "metadata": {},
   "source": [
    "Below are the boxplots showing the correlation between song genres and valence"
   ]
  },
  {
   "cell_type": "code",
   "execution_count": null,
   "id": "5de5565e",
   "metadata": {},
   "outputs": [],
   "source": [
    "group_means=music.groupby(['music_genre'])['valence'].median().sort_values(ascending=True)\n",
    "\n",
    "plt.figure(figsize=(35,12))\n",
    "plt.ylim(0.0,1.5)\n",
    "sns.boxplot(x='music_genre', y='valence', order=group_means.index,data=music)\n",
    "plt.show()"
   ]
  },
  {
   "cell_type": "markdown",
   "id": "42049f98",
   "metadata": {},
   "source": [
    "Below are the boxplots showing the correlation between song genres and tempo"
   ]
  },
  {
   "cell_type": "code",
   "execution_count": null,
   "id": "7f2b2029",
   "metadata": {},
   "outputs": [],
   "source": [
    "group_means=music.groupby(['music_genre'])['tempo'].median().sort_values(ascending=True)\n",
    "\n",
    "plt.figure(figsize=(35,12))\n",
    "plt.ylim(0,300)\n",
    "sns.boxplot(x='music_genre', y='tempo', order=group_means.index,data=music)\n",
    "plt.show()"
   ]
  },
  {
   "cell_type": "markdown",
   "id": "acab7de9",
   "metadata": {},
   "source": [
    "## Chi - Square Test\n"
   ]
  },
  {
   "cell_type": "markdown",
   "id": "818baa7e",
   "metadata": {},
   "source": [
    "Now, we will calculate the correlation between the categorical variables and the genre. This will help us understand the relation between the variables, following which we will have a clearer idea of which variables to choose as our predictors.\n",
    "\n",
    "The correlation will be calculated using the Chi-Square Test, which finds the probability of a null hypothesis (H0). It starts out with the hypothesis H0 : that the two categorical variables are not related to each other. It then generates the probability, called the p-value, that the hypothesis is true, i.e. they are not related to each other.\n",
    "\n",
    "If the returned p-value is above 0.5, usually we can assume that the two variables are not related. If the p-value falls below 0.5, they have a fairly strong correlation.\n",
    "\n",
    "Below is the calculation of p-value for acousticness and genre."
   ]
  },
  {
   "cell_type": "code",
   "execution_count": null,
   "id": "3e58acb2",
   "metadata": {},
   "outputs": [],
   "source": [
    "music.dtypes"
   ]
  },
  {
   "cell_type": "markdown",
   "id": "1f069990",
   "metadata": {},
   "source": [
    "As we can see here, the categorical variables apart from genre are 'artist_name', 'key', 'mode', and 'time signature'. We will now calculate the p-values of these variables with the categorical variable 'genre'.\n",
    "\n",
    "For the first variable, 'artist_name', we will first observe the contingency table of genre and artist name."
   ]
  },
  {
   "cell_type": "code",
   "execution_count": null,
   "id": "b756e172",
   "metadata": {},
   "outputs": [],
   "source": [
    "# chi-squared test with similar proportions\n",
    "from scipy.stats import chi2_contingency\n",
    "from scipy.stats import chi2\n",
    "# contingency table\n",
    "\n",
    "#table = pd.crosstab(music['music_genre'],music['artist_name'], margins = False)\n",
    "#print(table)\n"
   ]
  },
  {
   "cell_type": "markdown",
   "id": "929f237d",
   "metadata": {},
   "source": [
    "As we can see here, most of the expected frequencies are zero. The chi squared value cannot be calculated if the expected frequencies are zero. Hence, we will remove Artist Name from the dataset.\n",
    "\n",
    "Below is the p-value calculation for genre and key."
   ]
  },
  {
   "cell_type": "code",
   "execution_count": null,
   "id": "af8bd043",
   "metadata": {},
   "outputs": [],
   "source": [
    "# contingency table\n",
    "table = pd.crosstab(music['music_genre'],music['key'], margins = False)\n",
    "stat, p, dof, expected = chi2_contingency(table)\n",
    "print('degrees of freedom : %d' % dof)\n",
    "print(\"chi-square value : \",stat)\n",
    "print(\"p-value : \",p)\n"
   ]
  },
  {
   "cell_type": "markdown",
   "id": "6923cd6a",
   "metadata": {},
   "source": [
    "Below is the p-value calculation for genre and mode of the song."
   ]
  },
  {
   "cell_type": "code",
   "execution_count": null,
   "id": "fbaf8012",
   "metadata": {},
   "outputs": [],
   "source": [
    "# contingency table\n",
    "table = pd.crosstab(music['music_genre'],music['mode'], margins = False)\n",
    "stat, p, dof, expected = chi2_contingency(table)\n",
    "print('degrees of freedom : %d' % dof)\n",
    "print(\"chi-square value : \",stat)\n",
    "print(\"p-value : \",p)\n"
   ]
  },
  {
   "cell_type": "markdown",
   "id": "f5f45fc2",
   "metadata": {},
   "source": [
    "Below is the p-value calculation for genre and time signature."
   ]
  },
  {
   "cell_type": "code",
   "execution_count": null,
   "id": "3e90040d",
   "metadata": {},
   "outputs": [],
   "source": [
    "# contingency table\n",
    "table = pd.crosstab(music['music_genre'],music['time_signature'], margins = False)\n",
    "stat, p, dof, expected = chi2_contingency(table)\n",
    "print('degrees of freedom : %d' % dof)\n",
    "print(\"chi-square value : \",stat)\n",
    "print(\"p-value : \",p)"
   ]
  },
  {
   "cell_type": "markdown",
   "id": "138a658f",
   "metadata": {},
   "source": [
    "As we can see from the above calculations, the p-values for all of these variables is 0.0, which could be read to imply that the genre of the song is dependent on all these variables. However, this could also be because the frequencies or counts vary by large amounts across the columns. We will consider these variables in our prediction model because they clearly have a correlation with the genre of the song."
   ]
  }
 ],
 "metadata": {
  "kernelspec": {
   "display_name": "Python 3 (ipykernel)",
   "language": "python",
   "name": "python3"
  },
  "language_info": {
   "codemirror_mode": {
    "name": "ipython",
    "version": 3
   },
   "file_extension": ".py",
   "mimetype": "text/x-python",
   "name": "python",
   "nbconvert_exporter": "python",
   "pygments_lexer": "ipython3",
   "version": "3.10.5"
  }
 },
 "nbformat": 4,
 "nbformat_minor": 5
}
