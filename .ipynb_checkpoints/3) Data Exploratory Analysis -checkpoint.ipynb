{
 "cells": [
  {
   "cell_type": "code",
   "execution_count": 5,
   "id": "5e8b8d85",
   "metadata": {},
   "outputs": [],
   "source": [
    "#importing libraries\n",
    "\n",
    "import numpy as np\n",
    "import pandas as pd\n",
    "import seaborn as sns\n",
    "import matplotlib.pyplot as plt # we only need pyplot\n",
    "from sklearn.model_selection import train_test_split\n",
    "from sklearn.linear_model import LinearRegression\n",
    "from sklearn.metrics import mean_squared_error\n",
    "from datetime import datetime"
   ]
  },
  {
   "cell_type": "code",
   "execution_count": 6,
   "id": "d9946bee",
   "metadata": {},
   "outputs": [
    {
     "ename": "FileNotFoundError",
     "evalue": "[Errno 2] No such file or directory: 'cleaned_music.csv'",
     "output_type": "error",
     "traceback": [
      "\u001b[0;31m---------------------------------------------------------------------------\u001b[0m",
      "\u001b[0;31mFileNotFoundError\u001b[0m                         Traceback (most recent call last)",
      "\u001b[0;32m/var/folders/cj/8tfy4pyx24j_7_mzhq_ny7hr0000gn/T/ipykernel_4847/1791723108.py\u001b[0m in \u001b[0;36m<module>\u001b[0;34m\u001b[0m\n\u001b[0;32m----> 1\u001b[0;31m \u001b[0mmusic\u001b[0m \u001b[0;34m=\u001b[0m \u001b[0mpd\u001b[0m\u001b[0;34m.\u001b[0m\u001b[0mread_csv\u001b[0m\u001b[0;34m(\u001b[0m\u001b[0;34m\"cleaned_music.csv\"\u001b[0m\u001b[0;34m)\u001b[0m\u001b[0;34m\u001b[0m\u001b[0;34m\u001b[0m\u001b[0m\n\u001b[0m\u001b[1;32m      2\u001b[0m \u001b[0mmusic\u001b[0m\u001b[0;34m\u001b[0m\u001b[0;34m\u001b[0m\u001b[0m\n",
      "\u001b[0;32m~/opt/anaconda3/lib/python3.9/site-packages/pandas/util/_decorators.py\u001b[0m in \u001b[0;36mwrapper\u001b[0;34m(*args, **kwargs)\u001b[0m\n\u001b[1;32m    309\u001b[0m                     \u001b[0mstacklevel\u001b[0m\u001b[0;34m=\u001b[0m\u001b[0mstacklevel\u001b[0m\u001b[0;34m,\u001b[0m\u001b[0;34m\u001b[0m\u001b[0;34m\u001b[0m\u001b[0m\n\u001b[1;32m    310\u001b[0m                 )\n\u001b[0;32m--> 311\u001b[0;31m             \u001b[0;32mreturn\u001b[0m \u001b[0mfunc\u001b[0m\u001b[0;34m(\u001b[0m\u001b[0;34m*\u001b[0m\u001b[0margs\u001b[0m\u001b[0;34m,\u001b[0m \u001b[0;34m**\u001b[0m\u001b[0mkwargs\u001b[0m\u001b[0;34m)\u001b[0m\u001b[0;34m\u001b[0m\u001b[0;34m\u001b[0m\u001b[0m\n\u001b[0m\u001b[1;32m    312\u001b[0m \u001b[0;34m\u001b[0m\u001b[0m\n\u001b[1;32m    313\u001b[0m         \u001b[0;32mreturn\u001b[0m \u001b[0mwrapper\u001b[0m\u001b[0;34m\u001b[0m\u001b[0;34m\u001b[0m\u001b[0m\n",
      "\u001b[0;32m~/opt/anaconda3/lib/python3.9/site-packages/pandas/io/parsers/readers.py\u001b[0m in \u001b[0;36mread_csv\u001b[0;34m(filepath_or_buffer, sep, delimiter, header, names, index_col, usecols, squeeze, prefix, mangle_dupe_cols, dtype, engine, converters, true_values, false_values, skipinitialspace, skiprows, skipfooter, nrows, na_values, keep_default_na, na_filter, verbose, skip_blank_lines, parse_dates, infer_datetime_format, keep_date_col, date_parser, dayfirst, cache_dates, iterator, chunksize, compression, thousands, decimal, lineterminator, quotechar, quoting, doublequote, escapechar, comment, encoding, encoding_errors, dialect, error_bad_lines, warn_bad_lines, on_bad_lines, delim_whitespace, low_memory, memory_map, float_precision, storage_options)\u001b[0m\n\u001b[1;32m    584\u001b[0m     \u001b[0mkwds\u001b[0m\u001b[0;34m.\u001b[0m\u001b[0mupdate\u001b[0m\u001b[0;34m(\u001b[0m\u001b[0mkwds_defaults\u001b[0m\u001b[0;34m)\u001b[0m\u001b[0;34m\u001b[0m\u001b[0;34m\u001b[0m\u001b[0m\n\u001b[1;32m    585\u001b[0m \u001b[0;34m\u001b[0m\u001b[0m\n\u001b[0;32m--> 586\u001b[0;31m     \u001b[0;32mreturn\u001b[0m \u001b[0m_read\u001b[0m\u001b[0;34m(\u001b[0m\u001b[0mfilepath_or_buffer\u001b[0m\u001b[0;34m,\u001b[0m \u001b[0mkwds\u001b[0m\u001b[0;34m)\u001b[0m\u001b[0;34m\u001b[0m\u001b[0;34m\u001b[0m\u001b[0m\n\u001b[0m\u001b[1;32m    587\u001b[0m \u001b[0;34m\u001b[0m\u001b[0m\n\u001b[1;32m    588\u001b[0m \u001b[0;34m\u001b[0m\u001b[0m\n",
      "\u001b[0;32m~/opt/anaconda3/lib/python3.9/site-packages/pandas/io/parsers/readers.py\u001b[0m in \u001b[0;36m_read\u001b[0;34m(filepath_or_buffer, kwds)\u001b[0m\n\u001b[1;32m    480\u001b[0m \u001b[0;34m\u001b[0m\u001b[0m\n\u001b[1;32m    481\u001b[0m     \u001b[0;31m# Create the parser.\u001b[0m\u001b[0;34m\u001b[0m\u001b[0;34m\u001b[0m\u001b[0m\n\u001b[0;32m--> 482\u001b[0;31m     \u001b[0mparser\u001b[0m \u001b[0;34m=\u001b[0m \u001b[0mTextFileReader\u001b[0m\u001b[0;34m(\u001b[0m\u001b[0mfilepath_or_buffer\u001b[0m\u001b[0;34m,\u001b[0m \u001b[0;34m**\u001b[0m\u001b[0mkwds\u001b[0m\u001b[0;34m)\u001b[0m\u001b[0;34m\u001b[0m\u001b[0;34m\u001b[0m\u001b[0m\n\u001b[0m\u001b[1;32m    483\u001b[0m \u001b[0;34m\u001b[0m\u001b[0m\n\u001b[1;32m    484\u001b[0m     \u001b[0;32mif\u001b[0m \u001b[0mchunksize\u001b[0m \u001b[0;32mor\u001b[0m \u001b[0miterator\u001b[0m\u001b[0;34m:\u001b[0m\u001b[0;34m\u001b[0m\u001b[0;34m\u001b[0m\u001b[0m\n",
      "\u001b[0;32m~/opt/anaconda3/lib/python3.9/site-packages/pandas/io/parsers/readers.py\u001b[0m in \u001b[0;36m__init__\u001b[0;34m(self, f, engine, **kwds)\u001b[0m\n\u001b[1;32m    809\u001b[0m             \u001b[0mself\u001b[0m\u001b[0;34m.\u001b[0m\u001b[0moptions\u001b[0m\u001b[0;34m[\u001b[0m\u001b[0;34m\"has_index_names\"\u001b[0m\u001b[0;34m]\u001b[0m \u001b[0;34m=\u001b[0m \u001b[0mkwds\u001b[0m\u001b[0;34m[\u001b[0m\u001b[0;34m\"has_index_names\"\u001b[0m\u001b[0;34m]\u001b[0m\u001b[0;34m\u001b[0m\u001b[0;34m\u001b[0m\u001b[0m\n\u001b[1;32m    810\u001b[0m \u001b[0;34m\u001b[0m\u001b[0m\n\u001b[0;32m--> 811\u001b[0;31m         \u001b[0mself\u001b[0m\u001b[0;34m.\u001b[0m\u001b[0m_engine\u001b[0m \u001b[0;34m=\u001b[0m \u001b[0mself\u001b[0m\u001b[0;34m.\u001b[0m\u001b[0m_make_engine\u001b[0m\u001b[0;34m(\u001b[0m\u001b[0mself\u001b[0m\u001b[0;34m.\u001b[0m\u001b[0mengine\u001b[0m\u001b[0;34m)\u001b[0m\u001b[0;34m\u001b[0m\u001b[0;34m\u001b[0m\u001b[0m\n\u001b[0m\u001b[1;32m    812\u001b[0m \u001b[0;34m\u001b[0m\u001b[0m\n\u001b[1;32m    813\u001b[0m     \u001b[0;32mdef\u001b[0m \u001b[0mclose\u001b[0m\u001b[0;34m(\u001b[0m\u001b[0mself\u001b[0m\u001b[0;34m)\u001b[0m\u001b[0;34m:\u001b[0m\u001b[0;34m\u001b[0m\u001b[0;34m\u001b[0m\u001b[0m\n",
      "\u001b[0;32m~/opt/anaconda3/lib/python3.9/site-packages/pandas/io/parsers/readers.py\u001b[0m in \u001b[0;36m_make_engine\u001b[0;34m(self, engine)\u001b[0m\n\u001b[1;32m   1038\u001b[0m             )\n\u001b[1;32m   1039\u001b[0m         \u001b[0;31m# error: Too many arguments for \"ParserBase\"\u001b[0m\u001b[0;34m\u001b[0m\u001b[0;34m\u001b[0m\u001b[0m\n\u001b[0;32m-> 1040\u001b[0;31m         \u001b[0;32mreturn\u001b[0m \u001b[0mmapping\u001b[0m\u001b[0;34m[\u001b[0m\u001b[0mengine\u001b[0m\u001b[0;34m]\u001b[0m\u001b[0;34m(\u001b[0m\u001b[0mself\u001b[0m\u001b[0;34m.\u001b[0m\u001b[0mf\u001b[0m\u001b[0;34m,\u001b[0m \u001b[0;34m**\u001b[0m\u001b[0mself\u001b[0m\u001b[0;34m.\u001b[0m\u001b[0moptions\u001b[0m\u001b[0;34m)\u001b[0m  \u001b[0;31m# type: ignore[call-arg]\u001b[0m\u001b[0;34m\u001b[0m\u001b[0;34m\u001b[0m\u001b[0m\n\u001b[0m\u001b[1;32m   1041\u001b[0m \u001b[0;34m\u001b[0m\u001b[0m\n\u001b[1;32m   1042\u001b[0m     \u001b[0;32mdef\u001b[0m \u001b[0m_failover_to_python\u001b[0m\u001b[0;34m(\u001b[0m\u001b[0mself\u001b[0m\u001b[0;34m)\u001b[0m\u001b[0;34m:\u001b[0m\u001b[0;34m\u001b[0m\u001b[0;34m\u001b[0m\u001b[0m\n",
      "\u001b[0;32m~/opt/anaconda3/lib/python3.9/site-packages/pandas/io/parsers/c_parser_wrapper.py\u001b[0m in \u001b[0;36m__init__\u001b[0;34m(self, src, **kwds)\u001b[0m\n\u001b[1;32m     49\u001b[0m \u001b[0;34m\u001b[0m\u001b[0m\n\u001b[1;32m     50\u001b[0m         \u001b[0;31m# open handles\u001b[0m\u001b[0;34m\u001b[0m\u001b[0;34m\u001b[0m\u001b[0m\n\u001b[0;32m---> 51\u001b[0;31m         \u001b[0mself\u001b[0m\u001b[0;34m.\u001b[0m\u001b[0m_open_handles\u001b[0m\u001b[0;34m(\u001b[0m\u001b[0msrc\u001b[0m\u001b[0;34m,\u001b[0m \u001b[0mkwds\u001b[0m\u001b[0;34m)\u001b[0m\u001b[0;34m\u001b[0m\u001b[0;34m\u001b[0m\u001b[0m\n\u001b[0m\u001b[1;32m     52\u001b[0m         \u001b[0;32massert\u001b[0m \u001b[0mself\u001b[0m\u001b[0;34m.\u001b[0m\u001b[0mhandles\u001b[0m \u001b[0;32mis\u001b[0m \u001b[0;32mnot\u001b[0m \u001b[0;32mNone\u001b[0m\u001b[0;34m\u001b[0m\u001b[0;34m\u001b[0m\u001b[0m\n\u001b[1;32m     53\u001b[0m \u001b[0;34m\u001b[0m\u001b[0m\n",
      "\u001b[0;32m~/opt/anaconda3/lib/python3.9/site-packages/pandas/io/parsers/base_parser.py\u001b[0m in \u001b[0;36m_open_handles\u001b[0;34m(self, src, kwds)\u001b[0m\n\u001b[1;32m    220\u001b[0m         \u001b[0mLet\u001b[0m \u001b[0mthe\u001b[0m \u001b[0mreaders\u001b[0m \u001b[0mopen\u001b[0m \u001b[0mIOHandles\u001b[0m \u001b[0mafter\u001b[0m \u001b[0mthey\u001b[0m \u001b[0mare\u001b[0m \u001b[0mdone\u001b[0m \u001b[0;32mwith\u001b[0m \u001b[0mtheir\u001b[0m \u001b[0mpotential\u001b[0m \u001b[0mraises\u001b[0m\u001b[0;34m.\u001b[0m\u001b[0;34m\u001b[0m\u001b[0;34m\u001b[0m\u001b[0m\n\u001b[1;32m    221\u001b[0m         \"\"\"\n\u001b[0;32m--> 222\u001b[0;31m         self.handles = get_handle(\n\u001b[0m\u001b[1;32m    223\u001b[0m             \u001b[0msrc\u001b[0m\u001b[0;34m,\u001b[0m\u001b[0;34m\u001b[0m\u001b[0;34m\u001b[0m\u001b[0m\n\u001b[1;32m    224\u001b[0m             \u001b[0;34m\"r\"\u001b[0m\u001b[0;34m,\u001b[0m\u001b[0;34m\u001b[0m\u001b[0;34m\u001b[0m\u001b[0m\n",
      "\u001b[0;32m~/opt/anaconda3/lib/python3.9/site-packages/pandas/io/common.py\u001b[0m in \u001b[0;36mget_handle\u001b[0;34m(path_or_buf, mode, encoding, compression, memory_map, is_text, errors, storage_options)\u001b[0m\n\u001b[1;32m    700\u001b[0m         \u001b[0;32mif\u001b[0m \u001b[0mioargs\u001b[0m\u001b[0;34m.\u001b[0m\u001b[0mencoding\u001b[0m \u001b[0;32mand\u001b[0m \u001b[0;34m\"b\"\u001b[0m \u001b[0;32mnot\u001b[0m \u001b[0;32min\u001b[0m \u001b[0mioargs\u001b[0m\u001b[0;34m.\u001b[0m\u001b[0mmode\u001b[0m\u001b[0;34m:\u001b[0m\u001b[0;34m\u001b[0m\u001b[0;34m\u001b[0m\u001b[0m\n\u001b[1;32m    701\u001b[0m             \u001b[0;31m# Encoding\u001b[0m\u001b[0;34m\u001b[0m\u001b[0;34m\u001b[0m\u001b[0m\n\u001b[0;32m--> 702\u001b[0;31m             handle = open(\n\u001b[0m\u001b[1;32m    703\u001b[0m                 \u001b[0mhandle\u001b[0m\u001b[0;34m,\u001b[0m\u001b[0;34m\u001b[0m\u001b[0;34m\u001b[0m\u001b[0m\n\u001b[1;32m    704\u001b[0m                 \u001b[0mioargs\u001b[0m\u001b[0;34m.\u001b[0m\u001b[0mmode\u001b[0m\u001b[0;34m,\u001b[0m\u001b[0;34m\u001b[0m\u001b[0;34m\u001b[0m\u001b[0m\n",
      "\u001b[0;31mFileNotFoundError\u001b[0m: [Errno 2] No such file or directory: 'cleaned_music.csv'"
     ]
    }
   ],
   "source": [
    "music = pd.read_csv(\"cleaned_music.csv\")\n",
    "music"
   ]
  },
  {
   "cell_type": "code",
   "execution_count": null,
   "id": "244debeb",
   "metadata": {},
   "outputs": [],
   "source": [
    "music = music.drop([\"Unnamed: 0\"], axis = 1)"
   ]
  },
  {
   "cell_type": "markdown",
   "id": "6334562d",
   "metadata": {},
   "source": [
    "# 3) Exploratory Analysis"
   ]
  },
  {
   "cell_type": "markdown",
   "id": "6a1e1b33",
   "metadata": {},
   "source": [
    "Looking at the top 20 artists with the most number of songs"
   ]
  },
  {
   "cell_type": "code",
   "execution_count": null,
   "id": "4586f2b1",
   "metadata": {},
   "outputs": [],
   "source": [
    "artists = music[\"artist_name\"].value_counts()[:20].sort_values(ascending = True)"
   ]
  },
  {
   "cell_type": "code",
   "execution_count": null,
   "id": "6ac26fc6",
   "metadata": {},
   "outputs": [],
   "source": [
    "artists"
   ]
  },
  {
   "cell_type": "code",
   "execution_count": null,
   "id": "33d45860",
   "metadata": {},
   "outputs": [],
   "source": [
    "plt.barh(artists.index, artists)\n",
    "plt.xlabel(\"Number of songs per artist\")\n",
    "plt.title(\"Songs per artist\")\n",
    "plt.show()"
   ]
  },
  {
   "cell_type": "markdown",
   "id": "e17c52fd",
   "metadata": {},
   "source": [
    "It seems the dataset was compiled by Japanese authors or in Japan since several artists in top20 are from the Land of the Rising Sun. Furthermore, many composers (e.g., Mozart, Beethoven, etc.) also found their place in this list. Now, to avoid large number of features, the artist_name is removed."
   ]
  },
  {
   "cell_type": "code",
   "execution_count": null,
   "id": "af678a64",
   "metadata": {},
   "outputs": [],
   "source": [
    "music.drop(\"artist_name\", axis = 1, inplace = True)"
   ]
  },
  {
   "cell_type": "markdown",
   "id": "6d62bf20",
   "metadata": {},
   "source": [
    "A brief check shows that most of the features hold numerical values save three columns which has categorical data. All feature are explored further in the next chapter."
   ]
  },
  {
   "cell_type": "code",
   "execution_count": null,
   "id": "1e2f4895",
   "metadata": {},
   "outputs": [],
   "source": [
    "music.head()"
   ]
  },
  {
   "cell_type": "markdown",
   "id": "337cf26f",
   "metadata": {},
   "source": [
    "Visualizing Data\n",
    "\n",
    "Visualizing counts and distributions simplify overview and understanding of data. The plots below show counts in each class in the three categorical features."
   ]
  },
  {
   "cell_type": "code",
   "execution_count": null,
   "id": "a267b191",
   "metadata": {},
   "outputs": [],
   "source": [
    "def plot_counts(feature, order = None):\n",
    "    sns.countplot(x = feature, data = music, palette = \"ocean\", order = order)\n",
    "    plt.title(f\"Counts in each {feature}\")\n",
    "    plt.show()"
   ]
  },
  {
   "cell_type": "markdown",
   "id": "1ef7ce16",
   "metadata": {},
   "source": [
    "The plot below shows how many times each key present in the dataset. The most frequent one is \"C\" and the least frequent one is \"D#\""
   ]
  },
  {
   "cell_type": "code",
   "execution_count": null,
   "id": "063300fb",
   "metadata": {},
   "outputs": [],
   "source": [
    "plot_counts(\"key\", [\"A\", \"A#\", \"B\", \"C\", \"C#\", \"D\", \"D#\", \"E\", \"F\", \"F#\", \"G\", \"G#\"])"
   ]
  },
  {
   "cell_type": "markdown",
   "id": "5b6c7424",
   "metadata": {},
   "source": [
    "The plot below shows the mode in all songs of the dataset.\n",
    "\n",
    "Majority of the songs are in \"major\" mode."
   ]
  },
  {
   "cell_type": "code",
   "execution_count": null,
   "id": "5d8b87e2",
   "metadata": {},
   "outputs": [],
   "source": [
    "plot_counts(\"mode\")"
   ]
  },
  {
   "cell_type": "markdown",
   "id": "279c5a0b",
   "metadata": {},
   "source": [
    "The plot below shows the genre of songs"
   ]
  },
  {
   "cell_type": "code",
   "execution_count": null,
   "id": "2a63ebc7",
   "metadata": {},
   "outputs": [],
   "source": [
    "plt.figure(figsize = (16, 8))\n",
    "plot_counts(\"music_genre\")"
   ]
  },
  {
   "cell_type": "markdown",
   "id": "6d15055d",
   "metadata": {},
   "source": [
    "We then move on to looking at the continous variables.\n",
    "Distribution of continuous values in numeric features is displayed on subplots to spare time and space.\n",
    "\n",
    "It turns out that tempo column has error values. Tempo means the speed at which a piece of music should be played. Instead of floats, some samples (4720) have a question mark (?) in this feature (see below)."
   ]
  },
  {
   "cell_type": "code",
   "execution_count": null,
   "id": "3cfc4d4f",
   "metadata": {},
   "outputs": [],
   "source": [
    "music[music[\"tempo\"] == \"?\"]"
   ]
  },
  {
   "cell_type": "markdown",
   "id": "eb8c8b11",
   "metadata": {},
   "source": [
    "In general, wrong values could be replaced with estimated (correct, plausible values), or with those of neighbouring cells but this approach is not feasible in this case. Rows' order does not follow any logic, thus assigning a value similar to the one in the previous or in the next sample wouldn't work. Similarly, feature's mode or a median wouldn't be correct either. A possible approach to address this problem is to group samples by genre, and to enter a mean tempo value for the given class. However, to keep the task as simple as possible, all rows with error values in tempo are removed. Thereafter, their type is converted to \"float\""
   ]
  },
  {
   "cell_type": "code",
   "execution_count": null,
   "id": "571dd9bd",
   "metadata": {},
   "outputs": [],
   "source": [
    "music = music.drop(music[music[\"tempo\"] == \"?\"].index)\n",
    "music[\"tempo\"] = music[\"tempo\"].astype(\"float\")\n",
    "music[\"tempo\"] = np.around(music[\"tempo\"], decimals = 2)"
   ]
  },
  {
   "cell_type": "markdown",
   "id": "5c235dfb",
   "metadata": {},
   "source": [
    "Displaying distributions is possible only for features holding numeric values. For this reason, they are stored in a separate variable."
   ]
  },
  {
   "cell_type": "code",
   "execution_count": null,
   "id": "a6447347",
   "metadata": {},
   "outputs": [],
   "source": [
    "numeric_features = music.drop([\"key\", \"music_genre\", \"mode\"], axis = 1)"
   ]
  },
  {
   "cell_type": "markdown",
   "id": "72020ce9",
   "metadata": {},
   "source": [
    "The code lines below display the distributions of all numeric features on subplots. They are interpreted thereafter."
   ]
  },
  {
   "cell_type": "code",
   "execution_count": null,
   "id": "2bb488ae",
   "metadata": {},
   "outputs": [],
   "source": [
    "fig, axs = plt.subplots(ncols = 3, nrows = 4, figsize = (15, 15))\n",
    "fig.delaxes(axs[3][2])\n",
    "index = 0\n",
    "\n",
    "axs = axs.flatten()\n",
    "for k, v in numeric_features.items():\n",
    "    sns.histplot(v, ax = axs[index])\n",
    "    index += 1\n",
    "plt.tight_layout(pad = 0.4, w_pad = 0.5, h_pad = 5.0)"
   ]
  },
  {
   "cell_type": "markdown",
   "id": "7992000c",
   "metadata": {},
   "source": [
    "Music characteristics are well explained here. Popularity has bi-modal distribution having peaks at around 48 and 55. Some values have much higher frequencies. In fact, it is not quite clear what \"popularity\" means here - the number of weeks in a chart, or number of points obtained after a survey (for example).\n",
    "\n",
    "Acousticness is measured on a scale of 0.0 (not acoustic) to 1.0 (very acoustic). Songs with higher acousticness are more likely to use acoustic and non-electronic instruments. The second subplot shows that most songs / music pieces are not acoustic.\n",
    "\n",
    "Danceability quantifies how suitable a track is for dancing based on a combination of musical elements, like tempo, rhythm, and beat. Songs with higher danceability have stronger and more regular beats. Like acousticness, danceability is measured on a scale of 0.0 (low danceability) to 1.0 (high danceability). In terms of danceability, values in this feature have - more or less - normal distribution.\n",
    "\n",
    "Music duration is given in milliseconds. Most samples are not longer than 0.3e6 (300 000) milliseconds, or 300 seconds, or exactly 5 minutes. Sounds reasonable.\n",
    "\n",
    "Energy measures the perceived intensity and activity of a song. Energy is also measured on a scale of 0.0 (low energy) to 1.0 (high energy). Songs with higher energy are more intense, dynamic, and loud. The distribution on the fifth subplot shows that most of the music pieces are described with high energy.\n",
    "\n",
    "On the other hand, instrumentalness predicts whether a track contains vocals. Instrumentalness is measured on a scale of 0.0 (likely contains vocal content) to 1.0 (likely contains no vocal content). Songs with higher instrumentalness are less likely to have vocals. Distribution of values in terms of instrumentalness is quite skewed - most samples has value of 0 or around 0, which means the songs are characterized with vocal content.\n",
    "\n",
    "Liveness detects the presence of an audience in a song. Liveness is also measured on a scale of 0.0 (no audience) to 1.0 (audible audience). Songs with higher liveness are more likely to have been performed live. It seems the songs in our dataset are performed without audience - most liveness values are closer to 0.0 than to 1.0.\n",
    "\n",
    "The next feature is loudness - it measures the decibel level of a song. Decibels are relative to a reference value, so songs with lower loudness values are quieter relative to the reference value of 0. Taking this into account, value distribution in loudness shows that most music samples are quieter (their loudness is closer to 0).\n",
    "\n",
    "Speechiness measures the presence of spoken words in a song. It is measured on a scale of 0.0 (low speechiness) to 1.0 (high speechiness). Songs with higher speechiness are mostly composed of spoken words, like poetry or a talk show. Distribution of speechiness is rather skewed on the right - most songs / pieces seem to have no or very small number of spoken words.\n",
    "\n",
    "Tempo measures the beats per minute (bpm) of a song. Many popular songs range from 50 bpm to 200 bpm. Songs with higher tempo have a faster pace. Distribution of tempo values is very similar to the one of \"popularity\".\n",
    "\n",
    "And finally, valence measures the positivity of a song. It is measured on a scale from 0.0 (low valence) to 1.0 (high valence). Songs with higher valence sound happier and more cheerful. Distribution of valence in out dataset is not normal - valence of most songs is somewhere between 0.2 and 0.7. Only a tiny number of songs are characterised with high valence.\n",
    "\n",
    "The code lines below help for displaying numeric features on boxplots. The latter are very useful for identifying outliers, i.e., extreme or wrong values in a feature. Outliers could distort model training and inference. For this reason, it is a good practice (whenever possible and justifiable) to remove them. A brief overview of outliers is given below the plots."
   ]
  },
  {
   "cell_type": "code",
   "execution_count": null,
   "id": "8ad04621",
   "metadata": {},
   "outputs": [],
   "source": [
    "fig, axs = plt.subplots(ncols = 3, nrows = 4, figsize = (15, 15))\n",
    "fig.delaxes(axs[3][2])\n",
    "idx = 0\n",
    "axs = axs.flatten()\n",
    "for k, v in numeric_features.items():\n",
    "    sns.boxplot(y = k, data = numeric_features, ax = axs[idx])\n",
    "    idx += 1\n",
    "plt.tight_layout(pad = 0.4, w_pad = 0.5, h_pad = 5.0)"
   ]
  },
  {
   "cell_type": "markdown",
   "id": "b5272f16",
   "metadata": {},
   "source": [
    "A small number of outliers are seen in popularity, danceability, and tempo. On the other hand, many extreme values are found in duration, instrumentlness, liveness, loudness, and speechiness. Since the overall objective of this exercise is not devising the best model but to interpret classification outputs, outliers are not removed.\n",
    "\n",
    "Now, we will look at the correlation between song genre and every variable. Variables with high correlation will be the predictors for our response.\n",
    "\n",
    "Below are the boxplots showing the correlation between song genres and acousticness"
   ]
  },
  {
   "cell_type": "code",
   "execution_count": null,
   "id": "32d945c1",
   "metadata": {},
   "outputs": [],
   "source": [
    "group_means=music.groupby(['music_genre'])['acousticness'].median().sort_values(ascending=True)\n",
    "\n",
    "plt.figure(figsize=(35,12))\n",
    "plt.ylim(0,1.0)\n",
    "sns.boxplot(x='music_genre', y='acousticness', order=group_means.index,data=music)\n",
    "plt.show()"
   ]
  },
  {
   "cell_type": "markdown",
   "id": "8ea24c25",
   "metadata": {},
   "source": [
    "Below are the boxplots showing the correlation between song genres and energy"
   ]
  },
  {
   "cell_type": "code",
   "execution_count": null,
   "id": "312381f1",
   "metadata": {},
   "outputs": [],
   "source": [
    "group_means=music.groupby(['music_genre'])['energy'].median().sort_values(ascending=True)\n",
    "\n",
    "plt.figure(figsize=(35,12))\n",
    "plt.ylim(0.0,1.5)\n",
    "sns.boxplot(x='music_genre', y='energy', order=group_means.index,data=music)\n",
    "plt.show()"
   ]
  },
  {
   "cell_type": "markdown",
   "id": "b428cfb1",
   "metadata": {},
   "source": [
    "Below are the boxplots showing the correlation between song genres and popularity"
   ]
  },
  {
   "cell_type": "code",
   "execution_count": null,
   "id": "aedda0de",
   "metadata": {},
   "outputs": [],
   "source": [
    "group_means=music.groupby(['music_genre'])['popularity'].median().sort_values(ascending=True)\n",
    "\n",
    "plt.figure(figsize=(35,12))\n",
    "plt.ylim(0.0,100)\n",
    "sns.boxplot(x='music_genre', y='popularity', order=group_means.index,data=music)\n",
    "plt.show()"
   ]
  },
  {
   "cell_type": "markdown",
   "id": "965f7c6e",
   "metadata": {},
   "source": [
    "Below are the boxplots showing the correlation between song genres and danceability"
   ]
  },
  {
   "cell_type": "code",
   "execution_count": null,
   "id": "15cfa795",
   "metadata": {},
   "outputs": [],
   "source": [
    "group_means=music.groupby(['music_genre'])['danceability'].median().sort_values(ascending=True)\n",
    "\n",
    "plt.figure(figsize=(35,12))\n",
    "plt.ylim(0.0,1.5)\n",
    "sns.boxplot(x='music_genre', y='danceability', order=group_means.index,data=music)\n",
    "plt.show()"
   ]
  },
  {
   "cell_type": "markdown",
   "id": "912f72c9",
   "metadata": {},
   "source": [
    "Below are the boxplots showing the correlation between song genres and duration_ms"
   ]
  },
  {
   "cell_type": "code",
   "execution_count": null,
   "id": "a46d38ae",
   "metadata": {},
   "outputs": [],
   "source": [
    "group_means=music.groupby(['music_genre'])['duration_ms'].median().sort_values(ascending=True)\n",
    "\n",
    "plt.figure(figsize=(35,12))\n",
    "plt.ylim(0.0,1000000)\n",
    "sns.boxplot(x='music_genre', y='duration_ms', order=group_means.index,data=music)\n",
    "plt.show()"
   ]
  },
  {
   "cell_type": "markdown",
   "id": "e648f668",
   "metadata": {},
   "source": [
    "Below are the boxplots showing the correlation between song genres and liveness"
   ]
  },
  {
   "cell_type": "code",
   "execution_count": null,
   "id": "ffd4a3f7",
   "metadata": {},
   "outputs": [],
   "source": [
    "group_means=music.groupby(['music_genre'])['liveness'].median().sort_values(ascending=True)\n",
    "\n",
    "plt.figure(figsize=(35,12))\n",
    "plt.ylim(0.0,1.5)\n",
    "sns.boxplot(x='music_genre', y='liveness', order=group_means.index,data=music)\n",
    "plt.show()"
   ]
  },
  {
   "cell_type": "markdown",
   "id": "06ca0d51",
   "metadata": {},
   "source": [
    "Below are the boxplots showing the correlation between song genres and loudness"
   ]
  },
  {
   "cell_type": "code",
   "execution_count": null,
   "id": "6ebb58d3",
   "metadata": {},
   "outputs": [],
   "source": [
    "group_means=music.groupby(['music_genre'])['loudness'].median().sort_values(ascending=True)\n",
    "\n",
    "plt.figure(figsize=(35,12))\n",
    "plt.ylim(-60,10)\n",
    "sns.boxplot(x='music_genre', y='loudness', order=group_means.index,data=music)\n",
    "plt.show()"
   ]
  },
  {
   "cell_type": "markdown",
   "id": "8a6d2847",
   "metadata": {},
   "source": [
    "Below are the boxplots showing the correlation between song genres and speechiness"
   ]
  },
  {
   "cell_type": "code",
   "execution_count": null,
   "id": "75d1a0bb",
   "metadata": {},
   "outputs": [],
   "source": [
    "group_means=music.groupby(['music_genre'])['speechiness'].median().sort_values(ascending=True)\n",
    "\n",
    "plt.figure(figsize=(35,12))\n",
    "plt.ylim(0.0,1.5)\n",
    "sns.boxplot(x='music_genre', y='speechiness', order=group_means.index,data=music)\n",
    "plt.show()"
   ]
  },
  {
   "cell_type": "markdown",
   "id": "43d7710a",
   "metadata": {},
   "source": [
    "Below are the boxplots showing the correlation between song genres and valence"
   ]
  },
  {
   "cell_type": "code",
   "execution_count": null,
   "id": "5de5565e",
   "metadata": {},
   "outputs": [],
   "source": [
    "group_means=music.groupby(['music_genre'])['valence'].median().sort_values(ascending=True)\n",
    "\n",
    "plt.figure(figsize=(35,12))\n",
    "plt.ylim(0.0,1.5)\n",
    "sns.boxplot(x='music_genre', y='valence', order=group_means.index,data=music)\n",
    "plt.show()"
   ]
  },
  {
   "cell_type": "markdown",
   "id": "42049f98",
   "metadata": {},
   "source": [
    "Below are the boxplots showing the correlation between song genres and tempo"
   ]
  },
  {
   "cell_type": "code",
   "execution_count": null,
   "id": "7f2b2029",
   "metadata": {},
   "outputs": [],
   "source": [
    "group_means=music.groupby(['music_genre'])['tempo'].median().sort_values(ascending=True)\n",
    "\n",
    "plt.figure(figsize=(35,12))\n",
    "plt.ylim(0,300)\n",
    "sns.boxplot(x='music_genre', y='tempo', order=group_means.index,data=music)\n",
    "plt.show()"
   ]
  },
  {
   "cell_type": "markdown",
   "id": "acab7de9",
   "metadata": {},
   "source": [
    "## Chi - Square Test\n"
   ]
  },
  {
   "cell_type": "markdown",
   "id": "818baa7e",
   "metadata": {},
   "source": [
    "Now, we will calculate the correlation between the categorical variables and the genre. This will help us understand the relation between the variables, following which we will have a clearer idea of which variables to choose as our predictors.\n",
    "\n",
    "The correlation will be calculated using the Chi-Square Test, which finds the probability of a null hypothesis (H0). It starts out with the hypothesis H0 : that the two categorical variables are not related to each other. It then generates the probability, called the p-value, that the hypothesis is true, i.e. they are not related to each other.\n",
    "\n",
    "If the returned p-value is above 0.5, usually we can assume that the two variables are not related. If the p-value falls below 0.5, they have a fairly strong correlation.\n",
    "\n",
    "Below is the calculation of p-value for acousticness and genre."
   ]
  },
  {
   "cell_type": "code",
   "execution_count": 7,
   "id": "3e58acb2",
   "metadata": {},
   "outputs": [
    {
     "ename": "NameError",
     "evalue": "name 'music' is not defined",
     "output_type": "error",
     "traceback": [
      "\u001b[0;31m---------------------------------------------------------------------------\u001b[0m",
      "\u001b[0;31mNameError\u001b[0m                                 Traceback (most recent call last)",
      "\u001b[0;32m/var/folders/cj/8tfy4pyx24j_7_mzhq_ny7hr0000gn/T/ipykernel_4847/1927478401.py\u001b[0m in \u001b[0;36m<module>\u001b[0;34m\u001b[0m\n\u001b[0;32m----> 1\u001b[0;31m \u001b[0mmusic\u001b[0m\u001b[0;34m.\u001b[0m\u001b[0mdtypes\u001b[0m\u001b[0;34m\u001b[0m\u001b[0;34m\u001b[0m\u001b[0m\n\u001b[0m",
      "\u001b[0;31mNameError\u001b[0m: name 'music' is not defined"
     ]
    }
   ],
   "source": [
    "music.dtypes"
   ]
  },
  {
   "cell_type": "markdown",
   "id": "1f069990",
   "metadata": {},
   "source": [
    "As we can see here, the categorical variables apart from genre are'key' and 'mode'. We will now calculate the p-values of these variables with the categorical variable 'genre'."
   ]
  },
  {
   "cell_type": "markdown",
   "id": "929f237d",
   "metadata": {},
   "source": [
    "Below is the p-value calculation for genre and key."
   ]
  },
  {
   "cell_type": "code",
   "execution_count": 9,
   "id": "af8bd043",
   "metadata": {},
   "outputs": [
    {
     "ename": "NameError",
     "evalue": "name 'music' is not defined",
     "output_type": "error",
     "traceback": [
      "\u001b[0;31m---------------------------------------------------------------------------\u001b[0m",
      "\u001b[0;31mNameError\u001b[0m                                 Traceback (most recent call last)",
      "\u001b[0;32m/var/folders/cj/8tfy4pyx24j_7_mzhq_ny7hr0000gn/T/ipykernel_4847/3547694430.py\u001b[0m in \u001b[0;36m<module>\u001b[0;34m\u001b[0m\n\u001b[1;32m      2\u001b[0m \u001b[0;32mfrom\u001b[0m \u001b[0mscipy\u001b[0m\u001b[0;34m.\u001b[0m\u001b[0mstats\u001b[0m \u001b[0;32mimport\u001b[0m \u001b[0mchi2\u001b[0m\u001b[0;34m\u001b[0m\u001b[0;34m\u001b[0m\u001b[0m\n\u001b[1;32m      3\u001b[0m \u001b[0;31m# contingency table\u001b[0m\u001b[0;34m\u001b[0m\u001b[0;34m\u001b[0m\u001b[0m\n\u001b[0;32m----> 4\u001b[0;31m \u001b[0mtable\u001b[0m \u001b[0;34m=\u001b[0m \u001b[0mpd\u001b[0m\u001b[0;34m.\u001b[0m\u001b[0mcrosstab\u001b[0m\u001b[0;34m(\u001b[0m\u001b[0mmusic\u001b[0m\u001b[0;34m[\u001b[0m\u001b[0;34m'music_genre'\u001b[0m\u001b[0;34m]\u001b[0m\u001b[0;34m,\u001b[0m\u001b[0mmusic\u001b[0m\u001b[0;34m[\u001b[0m\u001b[0;34m'key'\u001b[0m\u001b[0;34m]\u001b[0m\u001b[0;34m,\u001b[0m \u001b[0mmargins\u001b[0m \u001b[0;34m=\u001b[0m \u001b[0;32mFalse\u001b[0m\u001b[0;34m)\u001b[0m\u001b[0;34m\u001b[0m\u001b[0;34m\u001b[0m\u001b[0m\n\u001b[0m\u001b[1;32m      5\u001b[0m \u001b[0mstat\u001b[0m\u001b[0;34m,\u001b[0m \u001b[0mp\u001b[0m\u001b[0;34m,\u001b[0m \u001b[0mdof\u001b[0m\u001b[0;34m,\u001b[0m \u001b[0mexpected\u001b[0m \u001b[0;34m=\u001b[0m \u001b[0mchi2_contingency\u001b[0m\u001b[0;34m(\u001b[0m\u001b[0mtable\u001b[0m\u001b[0;34m)\u001b[0m\u001b[0;34m\u001b[0m\u001b[0;34m\u001b[0m\u001b[0m\n\u001b[1;32m      6\u001b[0m \u001b[0mprint\u001b[0m\u001b[0;34m(\u001b[0m\u001b[0;34m'degrees of freedom : %d'\u001b[0m \u001b[0;34m%\u001b[0m \u001b[0mdof\u001b[0m\u001b[0;34m)\u001b[0m\u001b[0;34m\u001b[0m\u001b[0;34m\u001b[0m\u001b[0m\n",
      "\u001b[0;31mNameError\u001b[0m: name 'music' is not defined"
     ]
    }
   ],
   "source": [
    "from scipy.stats import chi2_contingency\n",
    "from scipy.stats import chi2\n",
    "# contingency table\n",
    "table = pd.crosstab(music['music_genre'],music['key'], margins = False)\n",
    "stat, p, dof, expected = chi2_contingency(table)\n",
    "print('degrees of freedom : %d' % dof)\n",
    "print(\"chi-square value : \",stat)\n",
    "print(\"p-value : \",p)\n"
   ]
  },
  {
   "cell_type": "markdown",
   "id": "6923cd6a",
   "metadata": {},
   "source": [
    "Below is the p-value calculation for genre and mode of the song."
   ]
  },
  {
   "cell_type": "code",
   "execution_count": null,
   "id": "fbaf8012",
   "metadata": {},
   "outputs": [],
   "source": [
    "# contingency table\n",
    "table = pd.crosstab(music['music_genre'],music['mode'], margins = False)\n",
    "stat, p, dof, expected = chi2_contingency(table)\n",
    "print('degrees of freedom : %d' % dof)\n",
    "print(\"chi-square value : \",stat)\n",
    "print(\"p-value : \",p)\n"
   ]
  },
  {
   "cell_type": "markdown",
   "id": "138a658f",
   "metadata": {},
   "source": [
    "As we can see from the above calculations, the p-values for all of these variables is 0.0, which could be read to imply that the genre of the song is dependent on all these variables. However, this could also be because the frequencies or counts vary by large amounts across the columns. We will consider these variables in our prediction model because they clearly have a correlation with the genre of the song."
   ]
  }
 ],
 "metadata": {
  "kernelspec": {
   "display_name": "Python 3.9.7 ('base')",
   "language": "python",
   "name": "python3"
  },
  "language_info": {
   "codemirror_mode": {
    "name": "ipython",
    "version": 3
   },
   "file_extension": ".py",
   "mimetype": "text/x-python",
   "name": "python",
   "nbconvert_exporter": "python",
   "pygments_lexer": "ipython3",
   "version": "3.9.7"
  },
  "vscode": {
   "interpreter": {
    "hash": "cb12ac9472dd7e6fd23967c0dd19e5c0222fcbc79bc4c6fca24653591eb4bdb2"
   }
  }
 },
 "nbformat": 4,
 "nbformat_minor": 5
}
